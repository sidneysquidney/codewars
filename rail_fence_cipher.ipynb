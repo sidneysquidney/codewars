{
 "cells": [
  {
   "cell_type": "code",
   "execution_count": 4,
   "metadata": {},
   "outputs": [],
   "source": [
    "# Create two functions to encode and then decode a string using the Rail Fence Cipher. This cipher is used to encode a string by placing each character successively in a diagonal along a set of \"rails\". First start off moving diagonally and down. When you reach the bottom, reverse direction and move diagonally and up until you reach the top rail. Continue until you reach the end of the string. Each \"rail\" is then read left to right to derive the encoded string.\n",
    "\n",
    "# For example, the string \"WEAREDISCOVEREDFLEEATONCE\" could be represented in a three rail system as follows:\n",
    "\n",
    "# W       E       C       R       L       T       E\n",
    "#   E   R   D   S   O   E   E   F   E   A   O   C  \n",
    "#     A       I       V       D       E       N    \n",
    "# The encoded string would be:\n",
    "\n",
    "# WECRLTEERDSOEEFEAOCAIVDEN\n",
    "# Write a function/method that takes 2 arguments, a string and the number of rails, and returns the ENCODED string.\n",
    "\n",
    "# Write a second function/method that takes 2 arguments, an encoded string and the number of rails, and returns the DECODED string.\n",
    "\n",
    "# For both encoding and decoding, assume number of rails >= 2 and that passing an empty string will return an empty string.\n",
    "\n",
    "# Note that the example above excludes the punctuation and spaces just for simplicity. There are, however, tests that include punctuation. Don't filter out punctuation as they are a part of the string."
   ]
  },
  {
   "cell_type": "code",
   "execution_count": 262,
   "metadata": {},
   "outputs": [],
   "source": [
    "import math\n",
    "\n",
    "def indicies(start, end, step1, step2):\n",
    "    number = start\n",
    "    lst = [start]\n",
    "    if step1 == 0 or step2 == 0:\n",
    "        steps = [step1 + step2, step1 + step2]\n",
    "    else:\n",
    "        steps = [step1, step2]\n",
    "    while number < end:\n",
    "        step = (len(lst) + 1) % 2\n",
    "        number = lst[-1] + steps[step]\n",
    "        lst.append(number)\n",
    "    return lst[:-1]\n",
    "\n",
    "def encode_rail_fence_cipher(string, n):\n",
    "    lsts = [[] for x in range(n)]\n",
    "    n -= 1\n",
    "    for i in range(len(lsts)):\n",
    "        dist1 = (n * 2) - (i * 2)\n",
    "        dist2 = (n * 2) - dist1\n",
    "        if not dist1 or not dist2:\n",
    "            x = n * 2\n",
    "            lsts[i] = string[i::x]\n",
    "        elif dist1 == dist2:\n",
    "            lsts[i] = string[i::n]\n",
    "        else:\n",
    "            lsts[i] = 'sid'\n",
    "            lsts[i] = ''.join([string[x] for x in indicies(i, len(string), dist1, dist2)])\n",
    "    return ''.join(lsts)\n",
    "\n",
    "def decode_rail_fence_cipher(string, n):\n",
    "    l = len(string)\n",
    "    lsts = [0 for x in range(n)]\n",
    "    n -= 1\n",
    "    strings = []\n",
    "    string2 = []\n",
    "    for i in range(len(lsts)):\n",
    "        dist1 = (n * 2) - (i * 2)\n",
    "        dist2 = (n * 2) - dist1\n",
    "        lsts[i] = len(indicies(i, len(string), dist1, dist2))\n",
    "    for length in lsts:\n",
    "        strings.append(string[:length])\n",
    "        string = string[length:]\n",
    "    lsts = [list(x) for x in strings]\n",
    "    while len(string2) < l:\n",
    "        for st in lsts:\n",
    "            if not st:\n",
    "                continue\n",
    "            string2.append(st.pop(0))\n",
    "        for i in range(len(lsts) - 2, 0, -1):\n",
    "            if not lsts[i]:\n",
    "                continue\n",
    "            string2.append(lsts[i].pop(0))  \n",
    "    return ''.join(string2)\n",
    "        "
   ]
  },
  {
   "cell_type": "markdown",
   "metadata": {},
   "source": [
    "- can you do a list slice while making the step more than 1 difference - 1,2,4,5,7,8,10,11 (step 1 then 2 each time)\n",
    "- completed but didn't pass the submit as algorithms can't have been fast enough"
   ]
  }
 ],
 "metadata": {
  "kernelspec": {
   "display_name": "Python 3",
   "language": "python",
   "name": "python3"
  },
  "language_info": {
   "codemirror_mode": {
    "name": "ipython",
    "version": 3
   },
   "file_extension": ".py",
   "mimetype": "text/x-python",
   "name": "python",
   "nbconvert_exporter": "python",
   "pygments_lexer": "ipython3",
   "version": "3.8.5"
  }
 },
 "nbformat": 4,
 "nbformat_minor": 4
}
