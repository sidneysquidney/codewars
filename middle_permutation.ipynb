{
 "cells": [
  {
   "cell_type": "markdown",
   "metadata": {},
   "source": [
    "Task\n",
    "You are given a string s. Every letter in s appears once.\n",
    "\n",
    "Consider all strings formed by rearranging the letters in s. After ordering these strings in dictionary order, return the middle term. (If the sequence has a even length n, define its middle term to be the (n/2)th term.)\n",
    "\n",
    "Example\n",
    "For s = \"abc\", the result should be \"bac\".\n",
    "\n",
    "The permutations in order are: \"abc\", \"acb\", \"bac\", \"bca\", \"cab\", \"cba\" So, The middle term is \"bac\".\n",
    "\n",
    "Input/Output\n",
    "[input] string s\n",
    "unique letters (2 <= length <= 26)\n",
    "\n",
    "[output] a string\n",
    "middle permutation."
   ]
  },
  {
   "cell_type": "code",
   "execution_count": 26,
   "metadata": {},
   "outputs": [],
   "source": [
    "class Permutation:\n",
    "    def __init__(self):\n",
    "        self.result = []\n",
    "    def permute(self, lst):\n",
    "        self.backtrack(lst, [])\n",
    "        return self.result\n",
    "    def backtrack(self, lst, path):\n",
    "        if len(lst) == 0:\n",
    "            self.result.append(path)\n",
    "        else:\n",
    "            for i in range(len(lst)):\n",
    "                self.backtrack(lst[:i] + lst[i + 1:], path + [lst[i]])\n",
    "\n",
    "def middle_permutation(string):\n",
    "    x = Permutation()\n",
    "    perms = x.permute(string)\n",
    "    perms = sorted(perms)\n",
    "    index = [len(perms) // 2 if len(perms) % 2 != 0 else len(perms) // 2 - 1][0]\n",
    "    return ''.join(perms[index])"
   ]
  },
  {
   "cell_type": "code",
   "execution_count": 31,
   "metadata": {},
   "outputs": [
    {
     "data": {
      "text/plain": [
       "'rqwte'"
      ]
     },
     "execution_count": 31,
     "metadata": {},
     "output_type": "execute_result"
    }
   ],
   "source": [
    "middle_permutation(\"qwert\")\n",
    "# \"abcdxgz\"),\"dczxgba\""
   ]
  },
  {
   "cell_type": "code",
   "execution_count": null,
   "metadata": {},
   "outputs": [],
   "source": []
  }
 ],
 "metadata": {
  "kernelspec": {
   "display_name": "Python 3",
   "language": "python",
   "name": "python3"
  },
  "language_info": {
   "codemirror_mode": {
    "name": "ipython",
    "version": 3
   },
   "file_extension": ".py",
   "mimetype": "text/x-python",
   "name": "python",
   "nbconvert_exporter": "python",
   "pygments_lexer": "ipython3",
   "version": "3.8.5"
  }
 },
 "nbformat": 4,
 "nbformat_minor": 4
}
