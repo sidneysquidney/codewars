{
 "cells": [
  {
   "cell_type": "markdown",
   "metadata": {},
   "source": [
    "You are given a binary tree:\n",
    "\n",
    "class Node:\n",
    "    def __init__(self, L, R, n):\n",
    "        self.left = L\n",
    "        self.right = R\n",
    "        self.value = n\n",
    "Your task is to return the list with elements from tree sorted by levels, which means the root element goes first, then root children (from left to right) are second and third, and so on.\n",
    "\n",
    "Return empty list if root is None.\n",
    "\n",
    "Example 1 - following tree:\n",
    "\n",
    "                 2\n",
    "            8        9\n",
    "          1  3     4   5\n",
    "Should return following list:\n",
    "\n",
    "[2,8,9,1,3,4,5]\n",
    "Example 2 - following tree:\n",
    "\n",
    "                 1\n",
    "            8        4\n",
    "              3        5\n",
    "                         7\n",
    "Should return following list:\n",
    "\n",
    "[1,8,4,3,5,7]"
   ]
  },
  {
   "cell_type": "code",
   "execution_count": 15,
   "metadata": {},
   "outputs": [],
   "source": [
    "def tree_by_levels(node):\n",
    "    numbers = []\n",
    "    if not node:\n",
    "        return numbers\n",
    "    to_append = [node]\n",
    "    while to_append:\n",
    "        current_node = to_append.pop(0)\n",
    "        to_append += list(filter(lambda x: x, [current_node.left, current_node.right]))\n",
    "        numbers.append(current_node.value)\n",
    "    return numbers\n",
    "        "
   ]
  }
 ],
 "metadata": {
  "kernelspec": {
   "display_name": "Python 3",
   "language": "python",
   "name": "python3"
  },
  "language_info": {
   "codemirror_mode": {
    "name": "ipython",
    "version": 3
   },
   "file_extension": ".py",
   "mimetype": "text/x-python",
   "name": "python",
   "nbconvert_exporter": "python",
   "pygments_lexer": "ipython3",
   "version": "3.8.5"
  }
 },
 "nbformat": 4,
 "nbformat_minor": 4
}
