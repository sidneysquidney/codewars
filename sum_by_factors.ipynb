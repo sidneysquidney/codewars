{
 "cells": [
  {
   "cell_type": "markdown",
   "metadata": {},
   "source": [
    "Given an array of positive or negative integers\n",
    "\n",
    "I= [i1,..,in]\n",
    "\n",
    "you have to produce a sorted array P of the form\n",
    "\n",
    "[ [p, sum of all ij of I for which p is a prime factor (p positive) of ij] ...]\n",
    "\n",
    "P will be sorted by increasing order of the prime numbers. The final result has to be given as a string in Java, C#, C, C++ and as an array of arrays in other languages.\n",
    "\n",
    "Example:\n",
    "I = [12, 15] # result = [[2, 12], [3, 27], [5, 15]]\n",
    "[2, 3, 5] is the list of all prime factors of the elements of I, hence the result.\n",
    "\n",
    "Notes:\n",
    "\n",
    "It can happen that a sum is 0 if some numbers are negative!\n",
    "Example: I = [15, 30, -45] 5 divides 15, 30 and (-45) so 5 appears in the result, the sum of the numbers for which 5 is a factor is 0 so we have [5, 0] in the result amongst others.\n",
    "\n",
    "In Fortran - as in any other language - the returned string is not permitted to contain any redundant trailing whitespace: you can use dynamically allocated character strings."
   ]
  },
  {
   "cell_type": "code",
   "execution_count": 81,
   "metadata": {},
   "outputs": [],
   "source": [
    "def is_prime(n):\n",
    "    for x in range(2, (n // 2) + 1):\n",
    "        if n % x == 0:\n",
    "            return False\n",
    "    return True\n",
    "\n",
    "def sum_for_list(lst):\n",
    "    prime_factors = []\n",
    "    for n in lst:\n",
    "        if is_prime(abs(n)):\n",
    "            prime_factors.append(abs(n))\n",
    "        for f in range(2, abs(n) // 2 + 1):\n",
    "            if n % f == 0 and is_prime(f):\n",
    "                prime_factors.append(f)\n",
    "    return [[x, sum([lst[i] for i in range(len(lst)) if lst[i] % x == 0])] for x in sorted(list(set(prime_factors)))]"
   ]
  },
  {
   "cell_type": "code",
   "execution_count": 126,
   "metadata": {},
   "outputs": [],
   "source": [
    "class SumPrime:\n",
    "    def __init__(self, lst):\n",
    "        self.lst = lst\n",
    "        self.prime_factors = []\n",
    "        self.result = []\n",
    "    def is_prime(self, n):\n",
    "        if n in self.prime_factors:\n",
    "            return False\n",
    "        for x in range(2, (n // 2) + 1):\n",
    "            if n % x == 0:\n",
    "                return False\n",
    "        return True\n",
    "    def get_primes(self):\n",
    "        for i in range(len(self.lst)):\n",
    "            if self.is_prime(abs(self.lst[i])):\n",
    "                self.prime_factors.append(abs(self.lst[i]))\n",
    "            for f in range(2, abs(self.lst[i]) // 2 + 1):\n",
    "                if self.lst[i] % f == 0 and self.is_prime(f):\n",
    "                    self.prime_factors.append(f)\n",
    "    def sum_primes(self):\n",
    "        self.get_primes()\n",
    "        self.prime_factors = sorted(self.prime_factors)\n",
    "        self.result = [[] for x in self.prime_factors]\n",
    "        for i in range(len(self.result)):\n",
    "            self.result[i] = [self.prime_factors[i], sum([x for x in self.lst if x % self.prime_factors[i] == 0])]\n",
    "        return self.result\n",
    "      \n",
    "def sum_for_list(lst):\n",
    "    result = SumPrime(lst)\n",
    "    result.get_primes()\n",
    "    return result.sum_primes()"
   ]
  },
  {
   "cell_type": "markdown",
   "metadata": {},
   "source": [
    "- think it works but again algorithms weren't fast enough so incomplete"
   ]
  }
 ],
 "metadata": {
  "kernelspec": {
   "display_name": "Python 3",
   "language": "python",
   "name": "python3"
  },
  "language_info": {
   "codemirror_mode": {
    "name": "ipython",
    "version": 3
   },
   "file_extension": ".py",
   "mimetype": "text/x-python",
   "name": "python",
   "nbconvert_exporter": "python",
   "pygments_lexer": "ipython3",
   "version": "3.8.5"
  }
 },
 "nbformat": 4,
 "nbformat_minor": 4
}
