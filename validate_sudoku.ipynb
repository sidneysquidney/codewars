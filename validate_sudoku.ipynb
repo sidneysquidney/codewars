{
 "cells": [
  {
   "cell_type": "markdown",
   "metadata": {},
   "source": [
    "Given a Sudoku data structure with size NxN, N > 0 and √N == integer, write a method to validate if it has been filled out correctly.\n",
    "\n",
    "The data structure is a multi-dimensional Array, i.e:\n",
    "\n",
    "[\n",
    "  [7,8,4,  1,5,9,  3,2,6],\n",
    "  [5,3,9,  6,7,2,  8,4,1],\n",
    "  [6,1,2,  4,3,8,  7,5,9],\n",
    "  \n",
    "  [9,2,8,  7,1,5,  4,6,3],\n",
    "  [3,5,7,  8,4,6,  1,9,2],\n",
    "  [4,6,1,  9,2,3,  5,8,7],\n",
    "  \n",
    "  [8,7,6,  3,9,4,  2,1,5],\n",
    "  [2,4,3,  5,6,1,  9,7,8],\n",
    "  [1,9,5,  2,8,7,  6,3,4]\n",
    "]\n",
    "Rules for validation\n",
    "\n",
    "Data structure dimension: NxN where N > 0 and √N == integer\n",
    "Rows may only contain integers: 1..N (N included)\n",
    "Columns may only contain integers: 1..N (N included)\n",
    "'Little squares' (3x3 in example above) may also only contain integers: 1..N (N included)"
   ]
  },
  {
   "cell_type": "code",
   "execution_count": 1,
   "metadata": {},
   "outputs": [],
   "source": [
    "import numpy as np"
   ]
  },
  {
   "cell_type": "code",
   "execution_count": 8,
   "metadata": {},
   "outputs": [],
   "source": [
    "class Sudoku(object):\n",
    "    def __init__(self, data):\n",
    "        self.data = data\n",
    "        self.length = int(len(self.data[0]))\n",
    "        self.root = int(len(self.data[0]) ** 0.5)\n",
    "    def is_valid(self):\n",
    "        for i in range(1, len(self.data)):\n",
    "            if len(self.data[i]) != len(self.data[i - 1]):\n",
    "                return False\n",
    "        self.data = np.array(self.data)\n",
    "        correct_set = set(range(1, self.length + 1))\n",
    "        for i in range(self.length):\n",
    "            row = self.data[i,:]\n",
    "            column = self.data[:,i]\n",
    "            if set(row) != correct_set or set(column) != correct_set:\n",
    "                return False\n",
    "        for x in range(0, self.length, self.root):\n",
    "            for y in range(0, self.length, self.root):\n",
    "                block = self.data[x: x + self.root, y: y + self.root]\n",
    "                block_set = []\n",
    "                for b in block:\n",
    "                    for n in b:\n",
    "                        block_set.append(n)\n",
    "                block_set = set(block_set)\n",
    "                if block_set != correct_set:\n",
    "                    return False\n",
    "        return True\n"
   ]
  },
  {
   "cell_type": "code",
   "execution_count": 4,
   "metadata": {},
   "outputs": [],
   "source": [
    "# Valid Sudoku\n",
    "goodSudoku1 = Sudoku([\n",
    "  [7,8,4, 1,5,9, 3,2,6],\n",
    "  [5,3,9, 6,7,2, 8,4,1],\n",
    "  [6,1,2, 4,3,8, 7,5,9],\n",
    "\n",
    "  [9,2,8, 7,1,5, 4,6,3],\n",
    "  [3,5,7, 8,4,6, 1,9,2],\n",
    "  [4,6,1, 9,2,3, 5,8,7],\n",
    "  \n",
    "  [8,7,6, 3,9,4, 2,1,5],\n",
    "  [2,4,3, 5,6,1, 9,7,8],\n",
    "  [1,9,5, 2,8,7, 6,3,4]\n",
    "])\n",
    "\n",
    "goodSudoku2 = Sudoku([\n",
    "  [1,4, 2,3],\n",
    "  [3,2, 4,1],\n",
    "\n",
    "  [4,1, 3,2],\n",
    "  [2,3, 1,4]\n",
    "])\n",
    "\n",
    "# Invalid Sudoku\n",
    "badSudoku1 = Sudoku([\n",
    "  [0,2,3, 4,5,6, 7,8,9],\n",
    "  [1,2,3, 4,5,6, 7,8,9],\n",
    "  [1,2,3, 4,5,6, 7,8,9],\n",
    "  \n",
    "  [1,2,3, 4,5,6, 7,8,9],\n",
    "  [1,2,3, 4,5,6, 7,8,9],\n",
    "  [1,2,3, 4,5,6, 7,8,9],\n",
    "  \n",
    "  [1,2,3, 4,5,6, 7,8,9],\n",
    "  [1,2,3, 4,5,6, 7,8,9],\n",
    "  [1,2,3, 4,5,6, 7,8,9]\n",
    "])\n",
    "\n",
    "badSudoku2 = Sudoku([\n",
    "  [1,2,3,4,5],\n",
    "  [1,2,3,4],\n",
    "  [1,2,3,4],  \n",
    "  [1]\n",
    "])\n",
    "\n",
    "# test.it('should be valid')\n",
    "# test.assert_equals(goodSudoku1.is_valid(), True, 'Testing valid 9x9')\n",
    "# test.assert_equals(goodSudoku2.is_valid(), True, 'Testing valid 4x4')\n",
    "\n",
    "# test.it ('should be invalid')\n",
    "# test.assert_equals(badSudoku1.is_valid(), False, 'Values in wrong order')\n",
    "# test.assert_equals(badSudoku2.is_valid(), False, '4x5 (invalid dimension)')"
   ]
  },
  {
   "cell_type": "code",
   "execution_count": 5,
   "metadata": {},
   "outputs": [],
   "source": [
    "# class Sudoku(object):\n",
    "#     def __init__(self, data):\n",
    "#         self.data = data\n",
    "#         self.length = len(self.data[0])\n",
    "#         self.root = len(self.data[0]) ** 0.5\n",
    "#     def is_valid(self):\n",
    "#         for i in range(1, len(self.data)):\n",
    "#             if len(self.data[i]) != len(self.data[i - 1]):\n",
    "#                 return False\n",
    "#         self.data = np.array(self.data)\n",
    "#         correct_set = set(range(1, 10))\n",
    "#         for i in range(9):\n",
    "#             row = self.data[i,:]\n",
    "#             column = self.data[:,i]\n",
    "#             if set(row) != correct_set or set(column) != correct_set:\n",
    "#                 return False\n",
    "#         for x in range(0, 9, 3):\n",
    "#             for y in range(0, 9, 3):\n",
    "#                 block = self.data[x: x + 3, y: y + 3]\n",
    "#                 block_set = []\n",
    "#                 for b in block:\n",
    "#                     for n in b:\n",
    "#                         block_set.append(n)\n",
    "#                 block_set = set(block_set)\n",
    "#                 if block_set != correct_set:\n",
    "#                     return False\n",
    "#         return True\n"
   ]
  },
  {
   "cell_type": "code",
   "execution_count": 7,
   "metadata": {},
   "outputs": [
    {
     "data": {
      "text/plain": [
       "True"
      ]
     },
     "execution_count": 7,
     "metadata": {},
     "output_type": "execute_result"
    }
   ],
   "source": [
    "# test.assert_equals(goodSudoku1.is_valid(), True, 'Testing valid 9x9')\n",
    "goodSudoku1.is_valid()\n",
    "\n",
    "# test.it ('should be invalid')\n",
    "# badSudoku1.is_valid()\n",
    "\n",
    "# badSudoku2.is_valid()\n",
    "# badSudoku2.data\n",
    "# , False, '4x5 (invalid dimension)')"
   ]
  },
  {
   "cell_type": "code",
   "execution_count": null,
   "metadata": {},
   "outputs": [],
   "source": [
    "set(range(1, 10))"
   ]
  },
  {
   "cell_type": "code",
   "execution_count": null,
   "metadata": {},
   "outputs": [],
   "source": [
    "g = [\n",
    "  [7,8,4, 1,5,9, 3,2,6],\n",
    "  [5,3,9, 6,7,2, 8,4,1],\n",
    "  [6,1,2, 4,3,8, 7,5,9],\n",
    "\n",
    "  [9,2,8, 7,1,5, 4,6,3],\n",
    "  [3,5,7, 8,4,6, 1,9,2],\n",
    "  [4,6,1, 9,2,3, 5,8,7],\n",
    "  \n",
    "  [8,7,6, 3,9,4, 2,1,5],\n",
    "  [2,4,3, 5,6,1, 9,7,8],\n",
    "  [1,9,5, 2,8,7, 6,3,4]\n",
    "]"
   ]
  },
  {
   "cell_type": "code",
   "execution_count": null,
   "metadata": {},
   "outputs": [],
   "source": [
    "arr = np.array(g)"
   ]
  },
  {
   "cell_type": "code",
   "execution_count": null,
   "metadata": {},
   "outputs": [],
   "source": [
    "for x in range(0, 9, 3):\n",
    "    for y in range(0, 9, 3):\n",
    "        block = arr[x: x + 3, y: y + 3]\n",
    "        block_set = []\n",
    "        for b in block:\n",
    "            for n in b:\n",
    "                block_set.append(n)\n",
    "        print(set(block_set))\n",
    "        \n",
    "#         block_set = [b[0], b[1], b[2] for b in block]\n"
   ]
  },
  {
   "cell_type": "code",
   "execution_count": null,
   "metadata": {},
   "outputs": [],
   "source": [
    "np.array([\n",
    "  [1,2,3,4,5],\n",
    "  [1,2,3,4],\n",
    "  [1,2,3,4],  \n",
    "  [1]\n",
    "])"
   ]
  },
  {
   "cell_type": "code",
   "execution_count": null,
   "metadata": {},
   "outputs": [],
   "source": [
    "np.array([[1,2,3,4], [5,6,7,8], [9,10,11,12]])"
   ]
  },
  {
   "cell_type": "code",
   "execution_count": 12,
   "metadata": {},
   "outputs": [
    {
     "data": {
      "text/plain": [
       "(9, 9)"
      ]
     },
     "execution_count": 12,
     "metadata": {},
     "output_type": "execute_result"
    }
   ],
   "source": [
    "goodSudoku1.data.shape"
   ]
  },
  {
   "cell_type": "code",
   "execution_count": null,
   "metadata": {},
   "outputs": [],
   "source": []
  }
 ],
 "metadata": {
  "kernelspec": {
   "display_name": "Python 3",
   "language": "python",
   "name": "python3"
  },
  "language_info": {
   "codemirror_mode": {
    "name": "ipython",
    "version": 3
   },
   "file_extension": ".py",
   "mimetype": "text/x-python",
   "name": "python",
   "nbconvert_exporter": "python",
   "pygments_lexer": "ipython3",
   "version": "3.8.5"
  }
 },
 "nbformat": 4,
 "nbformat_minor": 4
}
