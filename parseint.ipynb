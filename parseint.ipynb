{
 "cells": [
  {
   "cell_type": "markdown",
   "metadata": {},
   "source": [
    "In this kata we want to convert a string into an integer. The strings simply represent the numbers in words.\n",
    "\n",
    "Examples:\n",
    "\n",
    "\"one\" => 1\n",
    "\"twenty\" => 20\n",
    "\"two hundred forty-six\" => 246\n",
    "\"seven hundred eighty-three thousand nine hundred and nineteen\" => 783919\n",
    "Additional Notes:\n",
    "\n",
    "The minimum number is \"zero\" (inclusively)\n",
    "The maximum number, which must be supported is 1 million (inclusively)\n",
    "The \"and\" in e.g. \"one hundred and twenty-four\" is optional, in some cases it's present and in others it's not\n",
    "All tested numbers are valid, you don't need to validate them"
   ]
  },
  {
   "cell_type": "code",
   "execution_count": 165,
   "metadata": {},
   "outputs": [],
   "source": [
    "units = [\n",
    "        \"zero\", \"one\", \"two\", \"three\", \"four\", \"five\", \"six\", \"seven\", \"eight\",\n",
    "        \"nine\", \"ten\", \"eleven\", \"twelve\", \"thirteen\", \"fourteen\", \"fifteen\",\n",
    "        \"sixteen\", \"seventeen\", \"eighteen\", \"nineteen\",\n",
    "        ]\n",
    "tens = [\"\", \"\", \"twenty\", \"thirty\", \"forty\", \"fifty\", \"sixty\", \"seventy\", \"eighty\", \"ninety\"]\n",
    "scales = [\"million\", \"thousand\", \"hundred\"]\n",
    "\n",
    "def parse_int(string):\n",
    "    string = string.lower().strip()\n",
    "    if string == 'zero':\n",
    "        return 0\n",
    "    words = string.split()\n",
    "    digits = [0 for x in range(7)]\n",
    "    bigs = [s for s in scales if s in words]\n",
    "    if bigs:\n",
    "        for b in bigs:\n",
    "            i = words.index(b)\n",
    "            if b == 'million':\n",
    "                digits[0] = units.index(words[i - 1])\n",
    "            elif b == 'thousand':\n",
    "                if 'hundred' in words and words.index('hundred') < i:\n",
    "                    i2 = words.index('hundred')\n",
    "                    digits[1] = units.index(words[i2 - 1])\n",
    "                for ten in tens:\n",
    "                    if ten in words[i - 1]:\n",
    "                        digits[2] = tens.index(ten)\n",
    "                for unit in units:\n",
    "                    previous_word = [words[i - 1][words[i - 1].find('-'):] if '-' in words[i - 1] else words[i - 1]][0]\n",
    "                    if unit in previous_word:\n",
    "                        iu = units.index(unit)\n",
    "                        if iu >= 10:\n",
    "                            iu1, iu2, = int(str(iu)[0]), int(str(iu)[1])\n",
    "                            digits[2], digits[3] = iu1, iu2\n",
    "                        else:\n",
    "                            digits[3] = iu\n",
    "            else:\n",
    "                i = len(words) - words[::-1].index(b) - 1\n",
    "                if 'thousand' in words and words.index('thousand') > i:\n",
    "                    continue\n",
    "                digits[4] = units.index(words[i - 1])\n",
    "    for ten in tens:\n",
    "        if ten in words[-1]:\n",
    "            digits[5] = tens.index(ten) \n",
    "    last_word = [words[-1][words[-1].find('-'):] if '-' in words[-1] else words[-1]][0]\n",
    "    for unit in units:\n",
    "        if unit in last_word:\n",
    "            iu = units.index(unit)\n",
    "            if iu >= 10:\n",
    "                iu1, iu2, = int(str(iu)[0]), int(str(iu)[1])\n",
    "                digits[5], digits[6] = iu1, iu2\n",
    "            else:\n",
    "                digits[6] = iu\n",
    "    number = int(''.join([str(d) for d in digits]).lstrip('0'))\n",
    "    return number"
   ]
  },
  {
   "cell_type": "markdown",
   "metadata": {},
   "source": [
    "- pretty inefficient when compared to other solutions after solved -__-"
   ]
  }
 ],
 "metadata": {
  "kernelspec": {
   "display_name": "Python 3",
   "language": "python",
   "name": "python3"
  },
  "language_info": {
   "codemirror_mode": {
    "name": "ipython",
    "version": 3
   },
   "file_extension": ".py",
   "mimetype": "text/x-python",
   "name": "python",
   "nbconvert_exporter": "python",
   "pygments_lexer": "ipython3",
   "version": "3.8.5"
  }
 },
 "nbformat": 4,
 "nbformat_minor": 4
}
