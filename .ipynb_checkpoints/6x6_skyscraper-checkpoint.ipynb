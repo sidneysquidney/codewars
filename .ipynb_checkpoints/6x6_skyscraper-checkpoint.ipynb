{
 "cells": [
  {
   "cell_type": "markdown",
   "metadata": {},
   "source": [
    "In a grid of 6 by 6 squares you want to place a skyscraper in each square with only some clues:\n",
    "\n",
    "The height of the skyscrapers is between 1 and 6\n",
    "No two skyscrapers in a row or column may have the same number of floors\n",
    "A clue is the number of skyscrapers that you can see in a row or column from the outside\n",
    "Higher skyscrapers block the view of lower skyscrapers located behind them\n",
    "\n",
    "Can you write a program that can solve each 6 by 6 puzzle?\n",
    "\n",
    "Example:\n",
    "\n",
    "To understand how the puzzle works, this is an example of a row with 2 clues. Seen from the left there are 6 buildings visible while seen from the right side only 1:\n",
    "\n",
    " 6\t  \t  \t  \t  \t  \t  \t 1\n",
    "\n",
    "There is only one way in which the skyscrapers can be placed. From left-to-right all six buildings must be visible and no building may hide behind another building:\n",
    "\n",
    " 6\t 1\t 2\t 3\t 4\t 5\t 6\t 1\n",
    "\n",
    "Example of a 6 by 6 puzzle with the solution:\n",
    "\n",
    "  \t   \t   \t   \t2\t2\t   \t  \n",
    "  \t  \t  \t  \t  \t  \t  \t  \n",
    "  \t  \t  \t  \t  \t  \t  \t  \n",
    " 3\t  \t  \t  \t  \t  \t  \t  \n",
    "  \t  \t  \t  \t  \t  \t  \t 6\n",
    " 4\t  \t  \t  \t  \t  \t  \t 3\n",
    " 4\t  \t  \t  \t  \t  \t  \t  \n",
    "  \t  \t  \t  \t  \t4\t  \t  \n",
    "\n",
    "  \t  \t  \t  \t 2\t 2\t  \t  \n",
    "  \t 5\t 6\t 1\t 4\t 3\t 2\t  \n",
    "  \t 4\t 1\t 3\t 2\t 6\t 5\t  \n",
    " 3\t 2\t 3\t 6\t 1\t 5\t 4\t  \n",
    "  \t 6\t 5\t 4\t 3\t 2\t 1\t 6\n",
    " 4\t 1\t 2\t 5\t 6\t 4\t 3\t 3\n",
    " 4\t 3\t 4\t 2\t 5\t 1\t 6\t  \n",
    "  \t  \t  \t  \t  \t4\t  \t  \n",
    "\n",
    "Task:\n",
    "\n",
    "Finish:\n",
    "function solvePuzzle(clues)\n",
    "Pass the clues in an array of 24 items. The clues are in the array around the clock. Index:\n",
    "  \t 0\t 1\t 2\t 3\t 4\t 5\t  \n",
    " 23\t  \t  \t  \t  \t  \t  \t 6\n",
    " 22\t  \t  \t  \t  \t  \t  \t 7\n",
    " 21\t  \t  \t  \t  \t  \t  \t 8\n",
    " 20\t  \t  \t  \t  \t  \t  \t 9\n",
    " 19\t  \t  \t  \t  \t  \t  \t 10\n",
    " 18\t  \t  \t  \t  \t  \t  \t 11\n",
    "  \t17\t16\t15\t14\t13\t12\t  \n",
    "If no clue is available, add value `0`\n",
    "Each puzzle has only one possible solution\n",
    "`SolvePuzzle()` returns matrix `int[][]`. The first indexer is for the row, the second indexer for the column. Python returns a 6-tuple of 6-tuples, Ruby a 6-Array of 6-Arrays."
   ]
  },
  {
   "cell_type": "code",
   "execution_count": 1,
   "metadata": {},
   "outputs": [],
   "source": [
    "def solve_puzzle (clues):\n",
    "    # Return a 6x6 tuple matrix here...\n",
    "    pass"
   ]
  },
  {
   "cell_type": "code",
   "execution_count": 25,
   "metadata": {},
   "outputs": [],
   "source": [
    "# make oop \n",
    "# grid class - makes grid, clue attribute, \n",
    "# "
   ]
  },
  {
   "cell_type": "code",
   "execution_count": 26,
   "metadata": {},
   "outputs": [],
   "source": [
    "import numpy as np"
   ]
  },
  {
   "cell_type": "code",
   "execution_count": 30,
   "metadata": {},
   "outputs": [],
   "source": [
    "class Grid:\n",
    "    def __init__(self, clues):\n",
    "        self.grid = self.make_grid()\n",
    "        self.rows = {n: [None] * 2 for n in range(6)}\n",
    "        self.columns = {n: [None] * 2 for n in range(6)}\n",
    "        self.assign_clues(clues)\n",
    "        \n",
    "        \n",
    "    def make_grid(self):\n",
    "        return np.array([0] * 36).reshape(6,6)\n",
    "    \n",
    "    def assign_clues(self, clues):\n",
    "        for i in list(range(6)) + list(range(12, 18)):\n",
    "            if not i // 12:\n",
    "                self.columns[i % 12] = [clues[i]]\n",
    "            else:\n",
    "                self.columns[i % 12].append(clues[i])\n",
    "        \n",
    "        \n",
    "        "
   ]
  },
  {
   "cell_type": "code",
   "execution_count": 32,
   "metadata": {},
   "outputs": [
    {
     "data": {
      "text/plain": [
       "{0: [None, None],\n",
       " 1: [None, None],\n",
       " 2: [None, None],\n",
       " 3: [None, None],\n",
       " 4: [None, None],\n",
       " 5: [None, None]}"
      ]
     },
     "execution_count": 32,
     "metadata": {},
     "output_type": "execute_result"
    }
   ],
   "source": [
    "clues = ( 0, 0, 0, 2, 2, 0,\n",
    "          0, 0, 0, 6, 3, 0,\n",
    "          0, 4, 0, 0, 0, 0,\n",
    "          4, 4, 0, 3, 0, 0)\n",
    "\n",
    "g1 = Grid(clues)\n",
    "g1.rows\n"
   ]
  },
  {
   "cell_type": "code",
   "execution_count": null,
   "metadata": {},
   "outputs": [],
   "source": []
  }
 ],
 "metadata": {
  "kernelspec": {
   "display_name": "Python 3",
   "language": "python",
   "name": "python3"
  },
  "language_info": {
   "codemirror_mode": {
    "name": "ipython",
    "version": 3
   },
   "file_extension": ".py",
   "mimetype": "text/x-python",
   "name": "python",
   "nbconvert_exporter": "python",
   "pygments_lexer": "ipython3",
   "version": "3.8.5"
  }
 },
 "nbformat": 4,
 "nbformat_minor": 4
}
