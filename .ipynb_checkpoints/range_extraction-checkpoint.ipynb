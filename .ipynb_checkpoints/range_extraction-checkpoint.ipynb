{
 "cells": [
  {
   "cell_type": "markdown",
   "metadata": {},
   "source": [
    "A format for expressing an ordered list of integers is to use a comma separated list of either\n",
    "\n",
    "individual integers\n",
    "or a range of integers denoted by the starting integer separated from the end integer in the range by a dash, '-'. The range includes all integers in the interval including both endpoints. It is not considered a range unless it spans at least 3 numbers. For example \"12,13,15-17\"\n",
    "Complete the solution so that it takes a list of integers in increasing order and returns a correctly formatted string in the range format.\n",
    "\n",
    "Example:\n",
    "\n",
    "solution([-6, -3, -2, -1, 0, 1, 3, 4, 5, 7, 8, 9, 10, 11, 14, 15, 17, 18, 19, 20])\n",
    "# returns \"-6,-3-1,3-5,7-11,14,15,17-20\""
   ]
  },
  {
   "cell_type": "code",
   "execution_count": 33,
   "metadata": {},
   "outputs": [
    {
     "data": {
      "text/plain": [
       "'-6,-3-1,3-5,7-11,14,15,17-20,23,24'"
      ]
     },
     "execution_count": 33,
     "metadata": {},
     "output_type": "execute_result"
    }
   ],
   "source": [
    "def solution(args):\n",
    "    solution = []\n",
    "    temp = []\n",
    "    count = 0\n",
    "    for n in args:\n",
    "        count += 1\n",
    "        added = False\n",
    "        if not temp:\n",
    "            temp.append(n)\n",
    "            added = True\n",
    "        elif temp[-1] + 1 == n:\n",
    "            temp.append(n)\n",
    "            added = True\n",
    "            if count == len(args):\n",
    "                added = False\n",
    "                count = None\n",
    "        if not added:\n",
    "            if len(temp) < 3:\n",
    "                solution = solution + [str(n) for n in temp]\n",
    "                temp = []\n",
    "            else:\n",
    "                string = str(temp[0]) + '-' + str(temp[-1])\n",
    "                solution.append(string)\n",
    "                temp = []\n",
    "            temp.append(n)\n",
    "            if count == len(args):\n",
    "                solution = solution + [str(n) for n in temp]\n",
    "    return ','.join(solution)\n",
    "\n",
    "solution([-6, -3, -2, -1, 0, 1, 3, 4, 5, 7, 8, 9, 10, 11, 14, 15, 17, 18, 19, 20, 23, 24])"
   ]
  },
  {
   "cell_type": "code",
   "execution_count": 5,
   "metadata": {},
   "outputs": [],
   "source": [
    "# loop through\n",
    "# add to temp list, if temp list reaches size 3 then change to range"
   ]
  }
 ],
 "metadata": {
  "kernelspec": {
   "display_name": "Python 3",
   "language": "python",
   "name": "python3"
  },
  "language_info": {
   "codemirror_mode": {
    "name": "ipython",
    "version": 3
   },
   "file_extension": ".py",
   "mimetype": "text/x-python",
   "name": "python",
   "nbconvert_exporter": "python",
   "pygments_lexer": "ipython3",
   "version": "3.8.5"
  }
 },
 "nbformat": 4,
 "nbformat_minor": 4
}
