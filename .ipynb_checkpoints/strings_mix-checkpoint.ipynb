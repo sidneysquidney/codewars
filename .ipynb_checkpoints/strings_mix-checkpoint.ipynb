{
 "cells": [
  {
   "cell_type": "markdown",
   "metadata": {},
   "source": [
    "Given two strings s1 and s2, we want to visualize how different the two strings are. We will only take into account the lowercase letters (a to z). First let us count the frequency of each lowercase letters in s1 and s2.\n",
    "\n",
    "s1 = \"A aaaa bb c\"\n",
    "\n",
    "s2 = \"& aaa bbb c d\"\n",
    "\n",
    "s1 has 4 'a', 2 'b', 1 'c'\n",
    "\n",
    "s2 has 3 'a', 3 'b', 1 'c', 1 'd'\n",
    "\n",
    "So the maximum for 'a' in s1 and s2 is 4 from s1; the maximum for 'b' is 3 from s2. In the following we will not consider letters when the maximum of their occurrences is less than or equal to 1.\n",
    "\n",
    "We can resume the differences between s1 and s2 in the following string: \"1:aaaa/2:bbb\" where 1 in 1:aaaa stands for string s1 and aaaa because the maximum for a is 4. In the same manner 2:bbb stands for string s2 and bbb because the maximum for b is 3.\n",
    "\n",
    "The task is to produce a string in which each lowercase letters of s1 or s2 appears as many times as its maximum if this maximum is strictly greater than 1; these letters will be prefixed by the number of the string where they appear with their maximum value and :. If the maximum is in s1 as well as in s2 the prefix is =:.\n",
    "\n",
    "In the result, substrings (a substring is for example 2:nnnnn or 1:hhh; it contains the prefix) will be in decreasing order of their length and when they have the same length sorted in ascending lexicographic order (letters and digits - more precisely sorted by codepoint); the different groups will be separated by '/'. See examples and \"Example Tests\".\n",
    "\n",
    "Hopefully other examples can make this clearer.\n",
    "\n",
    "s1 = \"my&friend&Paul has heavy hats! &\"\n",
    "s2 = \"my friend John has many many friends &\"\n",
    "mix(s1, s2) --> \"2:nnnnn/1:aaaa/1:hhh/2:mmm/2:yyy/2:dd/2:ff/2:ii/2:rr/=:ee/=:ss\"\n",
    "\n",
    "s1 = \"mmmmm m nnnnn y&friend&Paul has heavy hats! &\"\n",
    "s2 = \"my frie n d Joh n has ma n y ma n y frie n ds n&\"\n",
    "mix(s1, s2) --> \"1:mmmmmm/=:nnnnnn/1:aaaa/1:hhh/2:yyy/2:dd/2:ff/2:ii/2:rr/=:ee/=:ss\"\n",
    "\n",
    "s1=\"Are the kids at home? aaaaa fffff\"\n",
    "s2=\"Yes they are here! aaaaa fffff\"\n",
    "mix(s1, s2) --> \"=:aaaaaa/2:eeeee/=:fffff/1:tt/2:rr/=:hh\""
   ]
  },
  {
   "cell_type": "code",
   "execution_count": 264,
   "metadata": {},
   "outputs": [],
   "source": [
    "def mix(s1, s2):\n",
    "    s1, s2 = list(filter(lambda x: x.islower(), s1)), list(filter(lambda x: x.islower(), s2))\n",
    "    filter1, filter2 = list(filter(lambda s: s1.count(s) >= 2, list(set(s1)))), list(filter(lambda s: s2.count(s) >= 2, list(set(s2))))\n",
    "    d1, d2 = {x:[s1.count(x), '1'] for x in filter1}, {x:[s2.count(x), '2'] for x in filter2}\n",
    "    print(d1, d2)\n",
    "    d = {}\n",
    "    for key in d1.keys():\n",
    "        if key in d2.keys():\n",
    "            if d1[key][0] == d2[key][0]:\n",
    "                d[key] = [d1[key][0], '=']\n",
    "            elif d1[key][0] < d2[key][0]:\n",
    "                d[key] = [d2[key][0], '2']\n",
    "            else:\n",
    "                d[key] = [d1[key][0], '1']\n",
    "        else:\n",
    "            d[key] = [d1[key][0], '1']\n",
    "    for key in d2.keys():\n",
    "        if key not in d.keys():\n",
    "            d[key] = [d2[key][0], '2']\n",
    "    d = sorted(list(d.items()), key=lambda x: (-x[1][0], ord(x[1][1]), x[0]))\n",
    "    return ''.join([x[1][1] + ':' + x[0] * x[1][0] + '/' for x in d]).strip('/')"
   ]
  },
  {
   "cell_type": "code",
   "execution_count": 272,
   "metadata": {},
   "outputs": [
    {
     "name": "stdout",
     "output_type": "stream",
     "text": [
      "{'g': [2, '1'], 's': [2, '1'], 'n': [3, '1'], 'o': [3, '1'], 'i': [2, '1'], 'u': [3, '1']} {'d': [2, '2'], 'g': [2, '2'], 's': [3, '2'], 'e': [2, '2'], 'n': [3, '2'], 'o': [2, '2'], 'a': [2, '2']}\n"
     ]
    },
    {
     "data": {
      "text/plain": [
       "'1:ooo/1:uuu/2:sss/=:nnn/1:ii/2:aa/2:dd/2:ee/=:gg'"
      ]
     },
     "execution_count": 272,
     "metadata": {},
     "output_type": "execute_result"
    }
   ],
   "source": [
    "mix(\"looping is fun but dangerous\", \"less dangerous than coding\")"
   ]
  },
  {
   "cell_type": "markdown",
   "metadata": {},
   "source": [
    "- use .get istead of dict[key] to return default if not in dict"
   ]
  },
  {
   "cell_type": "code",
   "execution_count": null,
   "metadata": {},
   "outputs": [],
   "source": []
  }
 ],
 "metadata": {
  "kernelspec": {
   "display_name": "Python 3",
   "language": "python",
   "name": "python3"
  },
  "language_info": {
   "codemirror_mode": {
    "name": "ipython",
    "version": 3
   },
   "file_extension": ".py",
   "mimetype": "text/x-python",
   "name": "python",
   "nbconvert_exporter": "python",
   "pygments_lexer": "ipython3",
   "version": "3.8.5"
  }
 },
 "nbformat": 4,
 "nbformat_minor": 4
}
