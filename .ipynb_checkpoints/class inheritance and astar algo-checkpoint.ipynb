{
 "cells": [
  {
   "cell_type": "markdown",
   "metadata": {},
   "source": [
    "GET TO THE CHOPPA! DO IT NOW!\n",
    "\n",
    "For this kata you must create a function that will find the shortest possible path between two nodes in a 2D grid of nodes.\n",
    "\n",
    "Details:\n",
    "\n",
    "Your function will take three arguments: a grid of nodes, a start node, and an end node. Your function will return a list of nodes that represent, in order, the path that one must follow to get from the start node to the end node. The path must begin with the start node and end with the end node. No single node should be repeated in the path (ie. no backtracking).\n",
    "In Python :\n",
    "\n",
    "def find_shortest_path(grid, start_node, end_node):\n",
    "    pass\n",
    "or in Haskell :\n",
    "\n",
    "shortestPath :: Grid -> Pos -> Pos -> Path\n",
    "The grid is a list of lists of nodes. Each node object has a position that indicates where in the grid the node is (it's indices).\n",
    "In python :\n",
    "\n",
    "node.position.x  # 2\n",
    "node.position.y  # 5\n",
    "node.position  # (2,5)\n",
    "node is grid[2][5]  # True\n",
    "or in Haskell :\n",
    "\n",
    "-- The following types are defined in Haskell :\n",
    "type Pos = (Int,Int)\n",
    "data Node = Passable | NotPassable\n",
    "-- A grid is a list of list of nodes, which are Passable / NotPassable\n",
    "type Grid = [[Node]]\n",
    "type Path = [Pos]\n",
    "Each node may or may not be 'passable'. All nodes in a path must be passable. A node that is not passable is effectively a wall that the shortest path must go around.\n",
    "In Python :\n",
    "\n",
    "a_node.passable  # True\n",
    "or in Haskell :\n",
    "\n",
    "(grid !! y !! x) == Passable -- True\n",
    "Diagonal traversals between nodes are NOT allowed in this kata. Your path must move in one of 4 directions at any given step along the path: left, right, up, or down.\n",
    "Grids will always be rectangular (NxM), but they may or may not be square (NxN).\n",
    "Your function must return a shortest path for grid widths and heights ranging between 0 and 200. This includes 0x0 and 200x200 grids.\n",
    "0x0 grids should return an empty path list\n",
    "When more than one shortest path exists (different paths, all viable, with the same number of steps) then any one of these paths will be considered a correct answer.\n",
    "Your function must be efficient enough (in terms of time complexity) to pass all the included tests within the allowed timeframe (6 seconds).\n",
    "In python, for your convenience, a print_grid function exists that you can use to print a grid. You can also use print_grid to visualize a given path on the given grid. The print_grid function has the following signature:\n",
    "def print_grid(grid, start_node=None, end_node=None, path=None)\n",
    "# output without a path\n",
    "\"\"\"\n",
    "S0110\n",
    "01000\n",
    "01010\n",
    "00010\n",
    "0001E\n",
    "\"\"\"\n",
    "\n",
    "# output with a path\n",
    "\"\"\"\n",
    "S0110\n",
    "#1###\n",
    "#1#1#\n",
    "###1#\n",
    "0001E\n",
    "\"\"\""
   ]
  },
  {
   "cell_type": "code",
   "execution_count": 8,
   "metadata": {},
   "outputs": [],
   "source": [
    "import numpy as np"
   ]
  },
  {
   "cell_type": "code",
   "execution_count": 673,
   "metadata": {},
   "outputs": [],
   "source": [
    "class Graph:\n",
    "    def __init__(self, directed = False):\n",
    "        self.directed = directed\n",
    "        self.graph_dict = {}\n",
    "        \n",
    "    def get_verticies(self):\n",
    "        return list(self.graph_dict.keys())\n",
    "        \n",
    "    def add_vertex(self, new_vertex):\n",
    "        self.graph_dict[new_vertex.value] = new_vertex\n",
    "        \n",
    "    def add_edge(self, from_vertex, to_vertex, weight = 0):\n",
    "        from_vertex.add_edge(to_vertex, weight)\n",
    "        if not self.directed:\n",
    "            to_vertex.add_edge(from_vertex, weight)\n",
    "\n",
    "class Vertex:\n",
    "    def __init__(self, value):\n",
    "        self.value = value      \n",
    "        self.edges = {}\n",
    "        \n",
    "    def get_value(self):\n",
    "        return self.value    \n",
    "        \n",
    "    def add_edge(self, to_vertex, weight):\n",
    "        self.edges[to_vertex] = weight\n",
    "        \n",
    "    def get_edges(self):\n",
    "        return self.edges\n",
    "    \n",
    "    \n",
    "\n",
    "        "
   ]
  },
  {
   "cell_type": "code",
   "execution_count": 674,
   "metadata": {},
   "outputs": [],
   "source": [
    "ex1 = Graph()\n",
    "a = Vertex('A')\n",
    "b = Vertex('B')\n",
    "c = Vertex('C')\n",
    "d = Vertex('D')\n",
    "e = Vertex('E')\n",
    "f = Vertex('F')\n",
    "g = Vertex('G')\n",
    "h = Vertex('H')\n",
    "\n",
    "ex1.add_vertex(a)\n",
    "ex1.add_vertex(b)\n",
    "ex1.add_vertex(c)\n",
    "ex1.add_vertex(d)\n",
    "ex1.add_vertex(e)\n",
    "ex1.add_vertex(f)\n",
    "ex1.add_vertex(h)\n",
    "ex1.add_vertex(g)\n"
   ]
  },
  {
   "cell_type": "code",
   "execution_count": 675,
   "metadata": {},
   "outputs": [],
   "source": [
    "class Vertex2(Vertex):\n",
    "    def __init__(self, value):\n",
    "        super().__init__(value)\n",
    "        self.easy_edges = {}\n",
    "        \n",
    "    def add_edge(self, to_vertex, weight):\n",
    "        super().add_edge(to_vertex, weight)\n",
    "        self.easy_edges[self.value + to_vertex.value] = weight\n",
    "        \n",
    "    def get_easy_edges(self):\n",
    "        return self.easy_edges\n",
    "\n",
    "class Graph2(Graph):\n",
    "    def __init__(self, directed = False):\n",
    "        super().__init__(directed)\n",
    "        self.edges = {}\n",
    "        \n",
    "    def add_edge(self, from_vertex, to_vertex, weight = 0):\n",
    "        super().add_edge(from_vertex, to_vertex, weight)\n",
    "        self.edges[from_vertex.value + to_vertex.value] = weight\n",
    "    \n",
    "    def get_edges(self):\n",
    "        return self.edges\n",
    "    \n",
    "    def kruskal(self):\n",
    "        points = self.get_verticies()\n",
    "        edges = sorted(self.get_edges(), key=lambda x:self.edges[x])\n",
    "        used_edges = []\n",
    "        while len(points) > 1:\n",
    "            edge = edges.pop(0)\n",
    "            i1, i2 = points.index(list(filter(lambda x: edge[0] in x, points))[0]), points.index(list(filter(lambda x: edge[1] in x, points))[0])\n",
    "            if i1 == i2:\n",
    "                continue\n",
    "            points[i1] += points[i2]\n",
    "            points.pop(i2)\n",
    "            used_edges.append(edge)\n",
    "        total_weight = sum([self.edges[edge] for edge in used_edges]) \n",
    "        return used_edges, total_weight\n",
    "    \n",
    "    def get_other_vertex(self, current_vertex, edge):\n",
    "        return list(filter(lambda x: x not in current_vertex, edge))[0]\n",
    "    \n",
    "    def prim(self, start_vertex):\n",
    "        points = [start_vertex.value]\n",
    "        used_edges = []\n",
    "        edges = list(start_vertex.easy_edges.items())\n",
    "        total_weight = 0\n",
    "        while len(points) < len(self.get_verticies()):\n",
    "            edges = sorted(edges, key = lambda x: x[1])\n",
    "            weight = edges[0][1]\n",
    "            edge = edges.pop(0)[0]\n",
    "            if edge[0] in points and edge[1] in points:\n",
    "                continue\n",
    "            to_vertex = self.get_other_vertex(points, edge)\n",
    "            edges += list(self.graph_dict[to_vertex].easy_edges.items())\n",
    "            points.append(to_vertex)\n",
    "            used_edges.append(edge)\n",
    "            total_weight += weight\n",
    "        return used_edges, total_weight\n",
    "    \n",
    "    def djikstra(self, start_vertex, end_vertex):\n",
    "        djik_dict = {x:[0, 0] for x in self.get_verticies()}\n",
    "        count = 1\n",
    "        djik_dict[start_vertex.value][0] = count\n",
    "        current_vertex = start_vertex.value\n",
    "        while not djik_dict[end_vertex.value][0]:\n",
    "            edges = list(self.graph_dict[current_vertex].easy_edges.items())\n",
    "            for edge in edges:\n",
    "                to_vertex = self.get_other_vertex(current_vertex, edge[0])\n",
    "                if (not djik_dict[to_vertex][0] and not djik_dict[to_vertex][1]) or djik_dict[to_vertex][1] > djik_dict[current_vertex][1] + edge[1]:\n",
    "                    djik_dict[to_vertex][1] = djik_dict[current_vertex][1] + edge[1]\n",
    "            count += 1\n",
    "            current_vertex = sorted(djik_dict, key=lambda x: (djik_dict[x][0], djik_dict[x][1] == 0, djik_dict[x][1]))[0]\n",
    "            djik_dict[current_vertex][0] = count\n",
    "        return djik_dict, edges, current_vertex\n",
    "\n",
    "\n"
   ]
  },
  {
   "cell_type": "markdown",
   "metadata": {},
   "source": [
    "- Graph1 just basic\n",
    "- Graph2 add djikstra, prim and kruskal\n",
    "- Graph3 allows graph to be passed in, adds functionality of print graph, finds fastest route to return xy coordinates"
   ]
  },
  {
   "cell_type": "code",
   "execution_count": 1331,
   "metadata": {},
   "outputs": [],
   "source": [
    "class Vertex3(Vertex2):\n",
    "    def __init__(self, value, coordinates):\n",
    "        super().__init__(value)\n",
    "        self.coordinates = coordinates\n",
    "        self.x = coordinates[0]\n",
    "        self.y = coordinates[1]\n",
    "        self.strco = str(self.x) + ',' + str(self.y)\n",
    "        self.g = None\n",
    "        self.h = None\n",
    "        self.f = None\n",
    "        self.parent = None\n",
    "        self.visited = False\n",
    "        \n",
    "    def add_edge(self, to_vertex, weight):\n",
    "        Vertex.add_edge(self, to_vertex, weight)\n",
    "        self.easy_edges[f'{self.x},{self.y}/{to_vertex.x},{to_vertex.y}'] = weight\n",
    "        \n",
    "    def add_gcost(self, current_vertex, previous_vertex):\n",
    "        self.g = 0 if previous_vertex == None else previous_vertex.edges[current_vertex] + previous_vertex.f\n",
    "\n",
    "        \n",
    "    def add_hcost(self, from_vertex, end_vertex):\n",
    "        self.h = self.get_distance(from_vertex, end_vertex)\n",
    "        \n",
    "    def add_fcost(self, start_node = False):\n",
    "        if (self.g and self.h) or start_node:\n",
    "            self.f = self.g + self.h\n",
    "            \n",
    "    def add_parent(self, parent_vertex):\n",
    "        self.parent = parent_vertex\n",
    "            \n",
    "    def get_fcost(self):\n",
    "        return self.f\n",
    "    \n",
    "    def get_distance(self, f, t):   \n",
    "        return round((abs(f.x - t.x) ** 2 + abs(f.y - t.y) ** 2) ** 0.5, 2)\n",
    "    \n",
    "    def add_costs(self, start, end, current, previous = None):\n",
    "        self.add_gcost(current, previous)\n",
    "        self.add_hcost(current, end)  \n",
    "        if start == current:\n",
    "            self.add_fcost(start_node = True)\n",
    "        elif current == end:\n",
    "            self.add_fcost(start_node = True)\n",
    "            self.add_parent(previous)\n",
    "        else:\n",
    "            self.add_fcost()\n",
    "            self.add_parent(previous)\n",
    "        \n",
    "class Graph3(Graph2):\n",
    "    def __init__(self, directed = False):\n",
    "        super().__init__(directed)\n",
    "        self.graph = []\n",
    "        self.start = None\n",
    "        self.end = None\n",
    "        \n",
    "    def add_edge(self, from_vertex, to_vertex, weight = 0):\n",
    "        Graph.add_edge(self, from_vertex, to_vertex, weight)\n",
    "        self.edges[f'{from_vertex.x},{from_vertex.y}/{to_vertex.x},{to_vertex.y}'] = weight\n",
    "        \n",
    "    def toco(self, string):\n",
    "        return [int(n) for n in string.split(',')]\n",
    "    \n",
    "    def tocos(self, string):\n",
    "        return [self.toco(x) for x in string.split('/')]\n",
    "    \n",
    "    def tost(self, lst):\n",
    "        return str(lst[0]) + ',' + str(lst[1]) \n",
    "    \n",
    "    def get_other_vertex(self, current_vertex, edge):\n",
    "        return self.tost(list(filter(lambda x: x not in [current_vertex.coordinates], self.tocos(edge)))[0])\n",
    "    \n",
    "    def add_edge_from_graph(self, i1, i2, shape):\n",
    "        from_vertex = self.graph_dict[self.tost([i1, i2])]\n",
    "        if i1 > 0:\n",
    "            self.add_edge(from_vertex, self.graph_dict[self.tost([i1 - 1, i2])], 1)\n",
    "        if i1 < shape[0] - 1:\n",
    "            self.add_edge(from_vertex, self.graph_dict[self.tost([i1 + 1, i2])], 1)\n",
    "        if i2 > 0:\n",
    "            self.add_edge(from_vertex, self.graph_dict[self.tost([i1, i2 - 1])], 1)\n",
    "        if i2 < shape[1] - 1:\n",
    "            self.add_edge(from_vertex, self.graph_dict[self.tost([i1, i2 + 1])], 1)\n",
    "        \n",
    "    def make_graph(self, graph_string):\n",
    "        self.graph = np.array([[x for x in y] for y in graph_string.split('\\n')[1:-1]])\n",
    "        shape = self.graph.shape\n",
    "        for i1 in range(shape[0]):\n",
    "            for i2 in range(shape[1]):\n",
    "                value = int(self.graph[i1,i2]) if self.graph[i1,i2].isdigit() else self.graph[i1,i2]\n",
    "                self.add_vertex(value, str(i1) + ',' + str(i2))\n",
    "                if value == 'S':\n",
    "                    self.start = str(i1) + ',' + str(i2)\n",
    "                elif value == 'E':\n",
    "                    self.end = str(i1) + ',' + str(i2) \n",
    "        for i1 in range(shape[0]):\n",
    "            for i2 in range(shape[1]):\n",
    "                self.add_edge_from_graph(i1, i2, shape)\n",
    "\n",
    "    def astar(self):\n",
    "        al = []\n",
    "        start_vertex, end_vertex = self.graph_dict[self.start], self.graph_dict[self.end]\n",
    "        to_visit = [self.graph_dict[self.start]]\n",
    "        start_vertex.add_costs(start_vertex, end_vertex, start_vertex)\n",
    "        while to_visit:\n",
    "            to_visit = sorted(to_visit, key=lambda x: (x.f, x.h))\n",
    "            current_node = to_visit.pop(0)\n",
    "            current_node.visited = True\n",
    "            if current_node.value == 'E':\n",
    "                break\n",
    "            new_nodes = current_node.get_edges().keys()\n",
    "            for node in new_nodes:\n",
    "                al.append(node)\n",
    "                if not node.visited:\n",
    "                    if node.value == 1:\n",
    "                        node.visited = True\n",
    "                    elif node.get_fcost():\n",
    "                        if node.f > current_node.f + current_node.edges[node]:\n",
    "                            node.add_costs(start_vertex, end_vertex, node, previous = current_node)\n",
    "                            to_visit.append(node)\n",
    "                    else:\n",
    "                        node.add_costs(start_vertex, end_vertex, node, previous = current_node)\n",
    "                        to_visit.append(node)\n",
    "        \n",
    "        current_node = self.graph_dict[self.end]\n",
    "        parents = [current_node]\n",
    "        while current_node.value != 'S':\n",
    "            parents.append(current_node.parent)\n",
    "            current_node = current_node.parent\n",
    "        return [p.strco for p in parents][::-1]\n",
    "    \n",
    "    def add_vertex(self, value, coordinates):\n",
    "        self.graph_dict[coordinates] = Vertex3(value, [int(n) for n in coordinates.split(',')])\n",
    "\n",
    "# astar - gcost generated as go - from last vertex, then comapre with already there, if better imporove, set arent accordingly\n",
    "# if all f cost same, go to hcost"
   ]
  },
  {
   "cell_type": "code",
   "execution_count": 1333,
   "metadata": {},
   "outputs": [
    {
     "data": {
      "text/plain": [
       "['4,8', '4,9', '3,9', '2,9', '1,9', '1,8', '1,7', '1,6', '1,5']"
      ]
     },
     "execution_count": 1333,
     "metadata": {},
     "output_type": "execute_result"
    }
   ],
   "source": [
    "# g4 = Graph3()\n",
    "# g4.make_graph(o)\n",
    "# g4.astar()\n",
    "\n",
    "\n",
    "g = '''\n",
    "00000000000\n",
    "00001E00000\n",
    "00001111100\n",
    "00000000000\n",
    "00000000S00\n",
    "00000000000\n",
    "'''\n",
    "g5 = Graph3()\n",
    "g5.make_graph(g)\n",
    "g5.astar()\n",
    "\n"
   ]
  },
  {
   "cell_type": "code",
   "execution_count": 977,
   "metadata": {},
   "outputs": [
    {
     "data": {
      "text/plain": [
       "5.0"
      ]
     },
     "execution_count": 977,
     "metadata": {},
     "output_type": "execute_result"
    }
   ],
   "source": [
    "(abs(0 - 3) ** 2 + abs(0 - 4) ** 2) ** 0.5\n"
   ]
  },
  {
   "cell_type": "markdown",
   "metadata": {},
   "source": [
    "#### "
   ]
  },
  {
   "cell_type": "code",
   "execution_count": 614,
   "metadata": {},
   "outputs": [],
   "source": [
    "r = np.arange(0, 9).reshape(3,3)"
   ]
  },
  {
   "cell_type": "code",
   "execution_count": 616,
   "metadata": {},
   "outputs": [
    {
     "data": {
      "text/plain": [
       "8"
      ]
     },
     "execution_count": 616,
     "metadata": {},
     "output_type": "execute_result"
    }
   ],
   "source": [
    "r[2,2]"
   ]
  },
  {
   "cell_type": "code",
   "execution_count": 894,
   "metadata": {},
   "outputs": [],
   "source": [
    "o = \"\"\"\n",
    "S0110\n",
    "01000\n",
    "01010\n",
    "00010\n",
    "0001E\n",
    "\"\"\"\n",
    "def to_arr(s):\n",
    "    return np.array([[x for x in y] for y in s.split('\\n')[1:-1]])\n",
    "u = to_arr(o)\n",
    "p = u.shape"
   ]
  },
  {
   "cell_type": "code",
   "execution_count": 542,
   "metadata": {},
   "outputs": [],
   "source": [
    "ex2 = Graph2()\n",
    "\n",
    "a = Vertex2('A')\n",
    "b = Vertex2('B')\n",
    "c = Vertex2('C')\n",
    "d = Vertex2('D')\n",
    "e = Vertex2('E')\n",
    "f = Vertex2('F')\n",
    "g = Vertex2('G')\n",
    "h = Vertex2('H')\n",
    "\n",
    "ex2.add_vertex(a)\n",
    "ex2.add_vertex(b)\n",
    "ex2.add_vertex(c)\n",
    "ex2.add_vertex(d)\n",
    "ex2.add_vertex(e)\n",
    "ex2.add_vertex(f)\n",
    "ex2.add_vertex(h)\n",
    "ex2.add_vertex(g)\n",
    "\n",
    "ex2.add_edge(c, a, 8)\n",
    "ex2.add_edge(a, d, 18)\n",
    "ex2.add_edge(d, c, 8)\n",
    "ex2.add_edge(b, a, 8)\n",
    "ex2.add_edge(c, f, 12)\n",
    "ex2.add_edge(e, b, 15)\n",
    "ex2.add_edge(d, e, 6)\n",
    "ex2.add_edge(f, d, 6)\n",
    "ex2.add_edge(b, d, 7)\n",
    "ex2.add_edge(e, h, 8)\n",
    "ex2.add_edge(g, d, 9)\n",
    "ex2.add_edge(f, d, 6)\n",
    "ex2.add_edge(h, f, 9)\n",
    "ex2.add_edge(h, g, 8)"
   ]
  },
  {
   "cell_type": "code",
   "execution_count": 543,
   "metadata": {},
   "outputs": [
    {
     "data": {
      "text/plain": [
       "({'A': [1, 0],\n",
       "  'B': [2, 8],\n",
       "  'C': [3, 8],\n",
       "  'D': [4, 15],\n",
       "  'E': [6, 21],\n",
       "  'F': [5, 20],\n",
       "  'H': [8, 29],\n",
       "  'G': [7, 24]},\n",
       " [('GD', 9), ('GH', 8)],\n",
       " 'H')"
      ]
     },
     "execution_count": 543,
     "metadata": {},
     "output_type": "execute_result"
    }
   ],
   "source": [
    "# print(ex2.kruskal())\n",
    "# ex2.prim(a)\n",
    "ex2.djikstra(a,h)\n"
   ]
  },
  {
   "cell_type": "code",
   "execution_count": 750,
   "metadata": {},
   "outputs": [
    {
     "data": {
      "text/plain": [
       "'0'"
      ]
     },
     "execution_count": 750,
     "metadata": {},
     "output_type": "execute_result"
    }
   ],
   "source": [
    "o = \"\"\"\n",
    "S0110\n",
    "01000\n",
    "01010\n",
    "00010\n",
    "0001E\n",
    "\"\"\"\n",
    "def to_arr(s):\n",
    "    return np.array([[x for x in y] for y in s.split('\\n')[1:-1]])\n",
    "u = to_arr(o)\n",
    "p = u.shape\n",
    "u[1,2]"
   ]
  },
  {
   "cell_type": "code",
   "execution_count": 502,
   "metadata": {},
   "outputs": [],
   "source": [
    "f = {'A': [1, 0],\n",
    "  'B': [2, 6],\n",
    "  'C': [0, 4],\n",
    "  'D': [0, 10],\n",
    "  'E': [0, 8],\n",
    "  'F': [0, 2],\n",
    "  'H': [0, 0],\n",
    "  'G': [0, 0]}"
   ]
  },
  {
   "cell_type": "code",
   "execution_count": 508,
   "metadata": {},
   "outputs": [
    {
     "data": {
      "text/plain": [
       "['F', 'C', 'E', 'D', 'H', 'G', 'A', 'B']"
      ]
     },
     "execution_count": 508,
     "metadata": {},
     "output_type": "execute_result"
    }
   ],
   "source": [
    "sorted(f, key=lambda x: (f[x][0], f[x][1] == 0, f[x][1]))"
   ]
  },
  {
   "cell_type": "code",
   "execution_count": null,
   "metadata": {},
   "outputs": [],
   "source": []
  },
  {
   "cell_type": "code",
   "execution_count": 592,
   "metadata": {},
   "outputs": [
    {
     "name": "stdout",
     "output_type": "stream",
     "text": [
      "\n"
     ]
    }
   ],
   "source": [
    "def find_shortest_path(grid, start_node, end_node):\n",
    "    grid = np.array(grid)\n",
    "    print()\n",
    "\n",
    "\n",
    "find_shortest_path(\"\"\"\n",
    "S0110\n",
    "01000\n",
    "01010\n",
    "00010\n",
    "0001E\n",
    "\"\"\", 'S', 'E')"
   ]
  },
  {
   "cell_type": "code",
   "execution_count": 622,
   "metadata": {},
   "outputs": [],
   "source": [
    "x = '63,212'"
   ]
  },
  {
   "cell_type": "code",
   "execution_count": 602,
   "metadata": {},
   "outputs": [
    {
     "data": {
      "text/plain": [
       "[63, 212]"
      ]
     },
     "execution_count": 602,
     "metadata": {},
     "output_type": "execute_result"
    }
   ],
   "source": [
    "[int(n) for n in x.split(',')]"
   ]
  },
  {
   "cell_type": "code",
   "execution_count": 603,
   "metadata": {},
   "outputs": [
    {
     "ename": "TypeError",
     "evalue": "unhashable type: 'list'",
     "output_type": "error",
     "traceback": [
      "\u001b[0;31m---------------------------------------------------------------------------\u001b[0m",
      "\u001b[0;31mTypeError\u001b[0m                                 Traceback (most recent call last)",
      "\u001b[0;32m<ipython-input-603-825d665f7055>\u001b[0m in \u001b[0;36m<module>\u001b[0;34m\u001b[0m\n\u001b[1;32m      2\u001b[0m \u001b[0;32mfor\u001b[0m \u001b[0mi1\u001b[0m \u001b[0;32min\u001b[0m \u001b[0mrange\u001b[0m\u001b[0;34m(\u001b[0m\u001b[0;36m3\u001b[0m\u001b[0;34m)\u001b[0m\u001b[0;34m:\u001b[0m\u001b[0;34m\u001b[0m\u001b[0;34m\u001b[0m\u001b[0m\n\u001b[1;32m      3\u001b[0m     \u001b[0;32mfor\u001b[0m \u001b[0mi2\u001b[0m \u001b[0;32min\u001b[0m \u001b[0mrange\u001b[0m\u001b[0;34m(\u001b[0m\u001b[0;36m4\u001b[0m\u001b[0;34m)\u001b[0m\u001b[0;34m:\u001b[0m\u001b[0;34m\u001b[0m\u001b[0;34m\u001b[0m\u001b[0m\n\u001b[0;32m----> 4\u001b[0;31m         \u001b[0md\u001b[0m\u001b[0;34m[\u001b[0m\u001b[0;34m[\u001b[0m\u001b[0mi1\u001b[0m\u001b[0;34m,\u001b[0m \u001b[0mi2\u001b[0m\u001b[0;34m]\u001b[0m\u001b[0;34m]\u001b[0m \u001b[0;34m=\u001b[0m \u001b[0mVertex\u001b[0m\u001b[0;34m(\u001b[0m\u001b[0;34m[\u001b[0m\u001b[0mi1\u001b[0m\u001b[0;34m,\u001b[0m \u001b[0mi2\u001b[0m\u001b[0;34m]\u001b[0m\u001b[0;34m)\u001b[0m\u001b[0;34m\u001b[0m\u001b[0;34m\u001b[0m\u001b[0m\n\u001b[0m",
      "\u001b[0;31mTypeError\u001b[0m: unhashable type: 'list'"
     ]
    }
   ],
   "source": [
    "d = {}\n",
    "for i1 in range(3):\n",
    "    for i2 in range(4):\n",
    "        d[[i1, i2]] = Vertex([i1, i2])"
   ]
  },
  {
   "cell_type": "code",
   "execution_count": 626,
   "metadata": {},
   "outputs": [
    {
     "data": {
      "text/plain": [
       "'sid is foo'"
      ]
     },
     "execution_count": 626,
     "metadata": {},
     "output_type": "execute_result"
    }
   ],
   "source": [
    "v = 'foo'\n",
    "f'sid is {v}'"
   ]
  },
  {
   "cell_type": "code",
   "execution_count": 727,
   "metadata": {},
   "outputs": [],
   "source": [
    "class Animal:\n",
    "    def __init__(self):\n",
    "        self.species = 'Animal'\n",
    "    def shout(self):\n",
    "        print('woof')\n",
    "        \n",
    "class Dog(Animal):\n",
    "    def __init__(self):\n",
    "        super().__init__()\n",
    "        self.sub = 'Dog'\n",
    "    def shout(self):\n",
    "        print('im a doggy')\n",
    "        \n",
    "class PitBull(Dog):\n",
    "    def shout(self):\n",
    "        Animal().shout()"
   ]
  },
  {
   "cell_type": "code",
   "execution_count": 728,
   "metadata": {},
   "outputs": [],
   "source": [
    "jo = Dog()\n",
    "\n",
    "tim = PitBull()"
   ]
  },
  {
   "cell_type": "code",
   "execution_count": 729,
   "metadata": {},
   "outputs": [
    {
     "name": "stdout",
     "output_type": "stream",
     "text": [
      "im a doggy\n"
     ]
    }
   ],
   "source": [
    "jo.shout()"
   ]
  },
  {
   "cell_type": "code",
   "execution_count": 732,
   "metadata": {},
   "outputs": [
    {
     "name": "stdout",
     "output_type": "stream",
     "text": [
      "woof\n"
     ]
    }
   ],
   "source": [
    "tim.shout()"
   ]
  },
  {
   "cell_type": "code",
   "execution_count": 799,
   "metadata": {},
   "outputs": [
    {
     "data": {
      "text/plain": [
       "['0,1', '1,1']"
      ]
     },
     "execution_count": 799,
     "metadata": {},
     "output_type": "execute_result"
    }
   ],
   "source": [
    "'0,1/1,1'.split('/')"
   ]
  },
  {
   "cell_type": "code",
   "execution_count": 847,
   "metadata": {},
   "outputs": [
    {
     "data": {
      "text/plain": [
       "[[1, 1]]"
      ]
     },
     "execution_count": 847,
     "metadata": {},
     "output_type": "execute_result"
    }
   ],
   "source": [
    "list(filter(lambda x: x not in [[0,1]], [[0,1], [1,1]]))"
   ]
  },
  {
   "cell_type": "code",
   "execution_count": 1007,
   "metadata": {},
   "outputs": [
    {
     "ename": "AttributeError",
     "evalue": "'int' object has no attribute 'isdigit'",
     "output_type": "error",
     "traceback": [
      "\u001b[0;31m---------------------------------------------------------------------------\u001b[0m",
      "\u001b[0;31mAttributeError\u001b[0m                            Traceback (most recent call last)",
      "\u001b[0;32m<ipython-input-1007-7ef4f8c1bae7>\u001b[0m in \u001b[0;36m<module>\u001b[0;34m\u001b[0m\n\u001b[1;32m      3\u001b[0m \u001b[0mk\u001b[0m \u001b[0;34m=\u001b[0m \u001b[0;34m'S'\u001b[0m\u001b[0;34m\u001b[0m\u001b[0;34m\u001b[0m\u001b[0m\n\u001b[1;32m      4\u001b[0m \u001b[0mn\u001b[0m \u001b[0;34m=\u001b[0m \u001b[0mj\u001b[0m\u001b[0;34m\u001b[0m\u001b[0;34m\u001b[0m\u001b[0m\n\u001b[0;32m----> 5\u001b[0;31m \u001b[0mx\u001b[0m \u001b[0;34m=\u001b[0m \u001b[0mint\u001b[0m\u001b[0;34m(\u001b[0m\u001b[0mn\u001b[0m\u001b[0;34m)\u001b[0m \u001b[0;32mif\u001b[0m \u001b[0mn\u001b[0m\u001b[0;34m.\u001b[0m\u001b[0misdigit\u001b[0m\u001b[0;34m(\u001b[0m\u001b[0;34m)\u001b[0m \u001b[0;32melse\u001b[0m \u001b[0mn\u001b[0m\u001b[0;34m\u001b[0m\u001b[0;34m\u001b[0m\u001b[0m\n\u001b[0m",
      "\u001b[0;31mAttributeError\u001b[0m: 'int' object has no attribute 'isdigit'"
     ]
    }
   ],
   "source": [
    "j = 1\n",
    "g = '0'\n",
    "k = 'S'\n",
    "n = j\n",
    "x = int(n) if n.isdigit() else n"
   ]
  },
  {
   "cell_type": "code",
   "execution_count": 1303,
   "metadata": {},
   "outputs": [],
   "source": [
    "def make_graph(width, height, start = None, end = None, obstacles = None):\n",
    "    graph = np.array(['0'] * (width * height)).reshape(height, width)\n",
    "    if start:\n",
    "        graph[start[0], start[1]] = 'S'\n",
    "    if end:\n",
    "        graph[end[0], end[1]] = 'E'\n",
    "    if obstacles:\n",
    "        for ob in obstacles:\n",
    "            graph[ob[0], ob[1]] = '1'\n",
    "    return graph\n",
    "\n",
    "def make_string(arr):\n",
    "    lines = [''.join(line) + '\\n' for line in arr]\n",
    "    string = ''.join(lines)\n",
    "    return '\\n' + string + '\\n'\n",
    "     "
   ]
  },
  {
   "cell_type": "code",
   "execution_count": 1304,
   "metadata": {},
   "outputs": [],
   "source": [
    "n = make_graph(11,6, start = [4,8], end = [1,5], obstacles = [[1,4], [2,4], [2,5], [2,6], [2,7], [2,8]])"
   ]
  },
  {
   "cell_type": "code",
   "execution_count": 1319,
   "metadata": {},
   "outputs": [],
   "source": [
    "g = make_string(n)"
   ]
  },
  {
   "cell_type": "code",
   "execution_count": 1320,
   "metadata": {},
   "outputs": [
    {
     "name": "stdout",
     "output_type": "stream",
     "text": [
      "\n",
      "00000000000\n",
      "00001E00000\n",
      "00001111100\n",
      "00000000000\n",
      "00000000S00\n",
      "00000000000\n",
      "\n",
      "\n"
     ]
    }
   ],
   "source": [
    "print(g)"
   ]
  },
  {
   "cell_type": "code",
   "execution_count": 1234,
   "metadata": {},
   "outputs": [
    {
     "ename": "IndentationError",
     "evalue": "unexpected indent (<ipython-input-1234-166b3e5d63c5>, line 2)",
     "output_type": "error",
     "traceback": [
      "\u001b[0;36m  File \u001b[0;32m\"<ipython-input-1234-166b3e5d63c5>\"\u001b[0;36m, line \u001b[0;32m2\u001b[0m\n\u001b[0;31m    '00001E00000',\u001b[0m\n\u001b[0m    ^\u001b[0m\n\u001b[0;31mIndentationError\u001b[0m\u001b[0;31m:\u001b[0m unexpected indent\n"
     ]
    }
   ],
   "source": [
    "m = '00000000000',\n",
    "  '00001E00000',\n",
    "  '00001111100',\n",
    "  '00000000000',\n",
    "  '00000000S00',\n",
    "  '00000000000'"
   ]
  },
  {
   "cell_type": "code",
   "execution_count": null,
   "metadata": {},
   "outputs": [],
   "source": [
    "class Vertex3(Vertex2):\n",
    "    def __init__(self, value, coordinates):\n",
    "        super().__init__(value)\n",
    "        self.coordinates = coordinates\n",
    "        self.x = coordinates[0]\n",
    "        self.y = coordinates[1]\n",
    "        self.strco = str(self.x) + ',' + str(self.y)\n",
    "        self.g = None\n",
    "        self.h = None\n",
    "        self.f = None\n",
    "        self.parent = None\n",
    "        self.visited = False\n",
    "        \n",
    "    def add_edge(self, to_vertex, weight):\n",
    "        Vertex.add_edge(self, to_vertex, weight)\n",
    "        self.easy_edges[f'{self.x},{self.y}/{to_vertex.x},{to_vertex.y}'] = weight\n",
    "        \n",
    "    def add_gcost(self, current_vertex, previous_vertex):\n",
    "        self.g = 0 if previous_vertex == None else previous_vertex.edges[current_vertex] + previous_vertex.f\n",
    "\n",
    "        \n",
    "    def add_hcost(self, from_vertex, end_vertex):\n",
    "        self.h = self.get_distance(from_vertex, end_vertex)\n",
    "        \n",
    "    def add_fcost(self, start_node = False):\n",
    "        if (self.g and self.h) or start_node:\n",
    "            self.f = self.g + self.h\n",
    "            \n",
    "    def add_parent(self, parent_vertex):\n",
    "        self.parent = parent_vertex\n",
    "            \n",
    "    def get_fcost(self):\n",
    "        return self.f\n",
    "    \n",
    "    def get_distance(self, f, t):   \n",
    "        return round((abs(f.x - t.x) ** 2 + abs(f.y - t.y) ** 2) ** 0.5, 2)\n",
    "    \n",
    "    def add_costs(self, start, end, current, previous = None):\n",
    "        self.add_gcost(current, previous)\n",
    "        self.add_hcost(current, end)  \n",
    "        if start == current:\n",
    "            self.add_fcost(start_node = True)\n",
    "        elif current == end:\n",
    "            self.add_fcost(start_node = True)\n",
    "            self.add_parent(previous)\n",
    "        else:\n",
    "            self.add_fcost()\n",
    "            self.add_parent(previous)\n",
    "        \n",
    "class Graph3(Graph2):\n",
    "    def __init__(self, directed = False):\n",
    "        super().__init__(directed)\n",
    "        self.graph = []\n",
    "        self.start = None\n",
    "        self.end = None\n",
    "        \n",
    "    def add_edge(self, from_vertex, to_vertex, weight = 0):\n",
    "        Graph.add_edge(self, from_vertex, to_vertex, weight)\n",
    "        self.edges[f'{from_vertex.x},{from_vertex.y}/{to_vertex.x},{to_vertex.y}'] = weight\n",
    "        \n",
    "    def toco(self, string):\n",
    "        return [int(n) for n in string.split(',')]\n",
    "    \n",
    "    def tocos(self, string):\n",
    "        return [self.toco(x) for x in string.split('/')]\n",
    "    \n",
    "    def tost(self, lst):\n",
    "        return str(lst[0]) + ',' + str(lst[1]) \n",
    "    \n",
    "    def get_other_vertex(self, current_vertex, edge):\n",
    "        return self.tost(list(filter(lambda x: x not in [current_vertex.coordinates], self.tocos(edge)))[0])\n",
    "    \n",
    "    def add_edge_from_graph(self, i1, i2, shape):\n",
    "        from_vertex = self.graph_dict[self.tost([i1, i2])]\n",
    "        if i1 > 0:\n",
    "            self.add_edge(from_vertex, self.graph_dict[self.tost([i1 - 1, i2])], 1)\n",
    "        if i1 < shape[0] - 1:\n",
    "            self.add_edge(from_vertex, self.graph_dict[self.tost([i1 + 1, i2])], 1)\n",
    "        if i2 > 0:\n",
    "            self.add_edge(from_vertex, self.graph_dict[self.tost([i1, i2 - 1])], 1)\n",
    "        if i2 < shape[1] - 1:\n",
    "            self.add_edge(from_vertex, self.graph_dict[self.tost([i1, i2 + 1])], 1)\n",
    "        \n",
    "    def make_graph(self, graph_string):\n",
    "        self.graph = np.array([[x for x in y] for y in graph_string.split('\\n')[1:-1]])\n",
    "        shape = self.graph.shape\n",
    "        for i1 in range(shape[0]):\n",
    "            for i2 in range(shape[1]):\n",
    "                value = int(self.graph[i1,i2]) if self.graph[i1,i2].isdigit() else self.graph[i1,i2]\n",
    "                self.add_vertex(value, str(i1) + ',' + str(i2))\n",
    "                if value == 'S':\n",
    "                    self.start = str(i1) + ',' + str(i2)\n",
    "                elif value == 'E':\n",
    "                    self.end = str(i1) + ',' + str(i2) \n",
    "        for i1 in range(shape[0]):\n",
    "            for i2 in range(shape[1]):\n",
    "                self.add_edge_from_graph(i1, i2, shape)\n",
    "                \n",
    "#     def get_distance(self, f, t):\n",
    "#         return (abs(f.x - t.x) ** 2 + abs(f.y - t.y) ** 2) ** 0.5 \n",
    "                \n",
    "# input in form '0,1' as a string \n",
    "\n",
    "    def astar(self):\n",
    "        al = []\n",
    "        start_vertex, end_vertex = self.graph_dict[self.start], self.graph_dict[self.end]\n",
    "        to_visit = [self.graph_dict[self.start]]\n",
    "        start_vertex.add_costs(start_vertex, end_vertex, start_vertex)\n",
    "        while to_visit:\n",
    "#             print(f'len to visit {len(to_visit)}')\n",
    "#             print([n.strco for n in to_visit])\n",
    "#             print([[n.g, n.h, n.f] for n in to_visit])\n",
    "            to_visit = sorted(to_visit, key=lambda x: x.f)\n",
    "            current_node = to_visit.pop(0)\n",
    "            current_node.visited = True\n",
    "#             print(f'current_vertex {current_node.f, current_node.strco}')\n",
    "            if current_node.value == 'E':\n",
    "#                 print('end reached')\n",
    "                break\n",
    "            new_nodes = current_node.get_edges().keys()\n",
    "#             print([[n.value, n.strco, n.visited] for n in new_nodes])\n",
    "            for node in new_nodes:\n",
    "                al.append(node)\n",
    "                if not node.visited:\n",
    "#                     print(f'value:{node.value, type(node.value)}')\n",
    "                    if node.value == 1:\n",
    "#                         print(node.value)\n",
    "                        node.visited = True\n",
    "                    elif node.get_fcost():\n",
    "#                         print('recalculating')\n",
    "                        if node.f > current_node.f + current_node.edges[node]:\n",
    "#                             print(f'adding. node in elif {node.strco}')\n",
    "                            node.add_costs(start_vertex, end_vertex, node, previous = current_node)\n",
    "                            to_visit.append(node)\n",
    "                    else:\n",
    "#                         print(f'adding. node {node.strco}')\n",
    "                        node.add_costs(start_vertex, end_vertex, node, previous = current_node)\n",
    "                        to_visit.append(node)\n",
    "        parents = []\n",
    "        current_node = self.graph_dict[self.end]\n",
    "#         print(current_node.value)\n",
    "#         print('parent')\n",
    "#         print(current_node.parent)\n",
    "#         print([[a.strco,a.parent] for a in al])\n",
    "        while current_node.value != 'S':\n",
    "            parents.append(current_node.parent)\n",
    "            current_node = current_node.parent\n",
    "        return [p.strco for p in parents]\n",
    "    \n",
    "    def add_vertex(self, value, coordinates):\n",
    "        self.graph_dict[coordinates] = Vertex3(value, [int(n) for n in coordinates.split(',')])\n",
    "        \n",
    "        \n",
    "# make a graph, add a string, convert to graph, make every point in repr a node with dic, each new node has coordinates, \n",
    "# when all done add edges - go thorugh graph\n",
    "\n",
    "\n",
    "\n",
    "# astar - gcost generated as go - from last vertex, then comapre with already there, if better imporove, set arent accordingly\n",
    "# if all f cost same, go to hcost\n",
    "\n",
    "        "
   ]
  }
 ],
 "metadata": {
  "kernelspec": {
   "display_name": "Python 3",
   "language": "python",
   "name": "python3"
  },
  "language_info": {
   "codemirror_mode": {
    "name": "ipython",
    "version": 3
   },
   "file_extension": ".py",
   "mimetype": "text/x-python",
   "name": "python",
   "nbconvert_exporter": "python",
   "pygments_lexer": "ipython3",
   "version": "3.8.5"
  }
 },
 "nbformat": 4,
 "nbformat_minor": 4
}
