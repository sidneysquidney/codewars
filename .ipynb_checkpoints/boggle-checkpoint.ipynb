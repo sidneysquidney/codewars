{
 "cells": [
  {
   "cell_type": "markdown",
   "metadata": {},
   "source": [
    "Write a function that determines whether a string is a valid guess in a Boggle board, as per the rules of Boggle. A Boggle board is a 2D array of individual characters, e.g.:\n",
    "\n",
    "[ [\"I\",\"L\",\"A\",\"W\"],\n",
    "  [\"B\",\"N\",\"G\",\"E\"],\n",
    "  [\"I\",\"U\",\"A\",\"O\"],\n",
    "  [\"A\",\"S\",\"R\",\"L\"] ]\n",
    "Valid guesses are strings which can be formed by connecting adjacent cells (horizontally, vertically, or diagonally) without re-using any previously used cells.\n",
    "\n",
    "For example, in the above board \"BINGO\", \"LINGO\", and \"ILNBIA\" would all be valid guesses, while \"BUNGIE\", \"BINS\", and \"SINUS\" would not.\n",
    "\n",
    "Your function should take two arguments (a 2D array and a string) and return true or false depending on whether the string is found in the array as per Boggle rules.\n",
    "\n",
    "Test cases will provide various array and string sizes (squared arrays up to 150x150 and strings up to 150 uppercase letters). You do not have to check whether the string is a real word or not, only if it's a valid guess."
   ]
  },
  {
   "cell_type": "code",
   "execution_count": 108,
   "metadata": {},
   "outputs": [],
   "source": [
    "import numpy as np"
   ]
  },
  {
   "cell_type": "code",
   "execution_count": 106,
   "metadata": {},
   "outputs": [],
   "source": [
    "testBoard = [\n",
    "      [\"E\",\"A\",\"R\",\"A\"],\n",
    "      [\"N\",\"L\",\"E\",\"C\"],\n",
    "      [\"I\",\"A\",\"I\",\"S\"],\n",
    "      [\"B\",\"Y\",\"O\",\"R\"]\n",
    "    ]\n",
    "    \n",
    "#     test.assert_equals( find_word(testBoard, \"C\"               ), True  , \"Test for C\")\n",
    "#     test.assert_equals( find_word(testBoard, \"EAR\"             ), True  , \"Test for EAR\")\n",
    "#     test.assert_equals( find_word(testBoard, \"EARS\"            ), False , \"Test for EARS\")\n",
    "#     test.assert_equals( find_word(testBoard, \"BAILER\"          ), True  , \"Test for BAILER\")\n",
    "#     test.assert_equals( find_word(testBoard, \"RSCAREIOYBAILNEA\"), True  , \"Test for RSCAREIOYBAILNEA\")\n",
    "#     test.assert_equals( find_word(testBoard, \"CEREAL\"          ), False , \"Test for CEREAL\")\n",
    "#     test.assert_equals( find_word(testBoard, \"ROBES\"           ), False , \"Test for ROBES\")"
   ]
  },
  {
   "cell_type": "code",
   "execution_count": 4,
   "metadata": {},
   "outputs": [],
   "source": [
    "# make it into an array\n",
    "# make a list with all possible starts, and a while loop that continues until all option are void"
   ]
  },
  {
   "cell_type": "code",
   "execution_count": 9,
   "metadata": {},
   "outputs": [],
   "source": [
    "testBoard = [\n",
    "      [\"E\",\"A\",\"R\",\"A\"],\n",
    "      [\"N\",\"L\",\"E\",\"C\"],\n",
    "      [\"I\",\"A\",\"I\",\"S\"],\n",
    "      [\"B\",\"Y\",\"O\",\"R\"]\n",
    "    ]\n",
    "tb = np.array(testBoard)"
   ]
  },
  {
   "cell_type": "code",
   "execution_count": 55,
   "metadata": {},
   "outputs": [
    {
     "data": {
      "text/plain": [
       "(4, 4)"
      ]
     },
     "execution_count": 55,
     "metadata": {},
     "output_type": "execute_result"
    }
   ],
   "source": [
    "tb.shape"
   ]
  },
  {
   "cell_type": "code",
   "execution_count": 104,
   "metadata": {},
   "outputs": [
    {
     "data": {
      "text/plain": [
       "True"
      ]
     },
     "execution_count": 104,
     "metadata": {},
     "output_type": "execute_result"
    }
   ],
   "source": [
    "def neighbors(x, y, loc):\n",
    "    neighbors = []\n",
    "    x_start =  [loc[0] - 1 if loc[0] - 1 >= 0 else 0][0]\n",
    "    x_end =  [loc[0] + 1 if loc[0] + 1 < x else  x - 1][0]\n",
    "    y_start =  [loc[1] - 1 if loc[1] - 1 >= 0 else 0][0]\n",
    "    y_end =  [loc[1] + 1 if loc[1] + 1 < x else  y - 1][0]\n",
    "    for r in range(x_start, x_end + 1):\n",
    "        for c in range(y_start, y_end + 1):\n",
    "            neighbors.append((r, c))\n",
    "    neighbors.remove(loc)\n",
    "    return neighbors\n",
    "\n",
    "def find_word(board, word):\n",
    "    board = np.array(board)\n",
    "    paths = []\n",
    "    word = word.upper()\n",
    "    for idx, x in np.ndenumerate(board):\n",
    "        if x == word[0]:\n",
    "            paths.append([[x, idx]])\n",
    "    while paths:\n",
    "        current_path = paths.pop()\n",
    "        current_node = current_path[-1]\n",
    "        taken_nodes = [x[1] for x in current_path]\n",
    "        if len(current_path) == len(word):\n",
    "            return True\n",
    "        current_index = len(current_path)\n",
    "        neighboring_nodes = neighbors(board.shape[0], board.shape[1], current_node[1]) \n",
    "        for node in neighboring_nodes:\n",
    "            if node in taken_nodes:\n",
    "                continue\n",
    "            elif board[node[0]][node[1]] == word[current_index]:\n",
    "                new_path = current_path + [[board[node[0]][node[1]], node]]\n",
    "                paths.append(new_path)\n",
    "    return False\n",
    "\n",
    "find_word(testBoard, 'RSCAREIOYBAILNEA')\n",
    "\n",
    "#    test.assert_equals( find_word(testBoard, \"C\"               ), True  , \"Test for C\")\n",
    "#     test.assert_equals( find_word(testBoard, \"EAR\"             ), True  , \"Test for EAR\")\n",
    "#     test.assert_equals( find_word(testBoard, \"EARS\"            ), False , \"Test for EARS\")\n",
    "#     test.assert_equals( find_word(testBoard, \"BAILER\"          ), True  , \"Test for BAILER\")\n",
    "#     test.assert_equals( find_word(testBoard, \"RSCAREIOYBAILNEA\"), True  , \"Test for RSCAREIOYBAILNEA\")\n",
    "#     test.assert_equals( find_word(testBoard, \"CEREAL\"          ), False , \"Test for CEREAL\")\n",
    "#     test.assert_equals( find_word(testBoard, \"ROBES\" "
   ]
  },
  {
   "cell_type": "code",
   "execution_count": null,
   "metadata": {},
   "outputs": [],
   "source": []
  }
 ],
 "metadata": {
  "kernelspec": {
   "display_name": "Python 3",
   "language": "python",
   "name": "python3"
  },
  "language_info": {
   "codemirror_mode": {
    "name": "ipython",
    "version": 3
   },
   "file_extension": ".py",
   "mimetype": "text/x-python",
   "name": "python",
   "nbconvert_exporter": "python",
   "pygments_lexer": "ipython3",
   "version": "3.8.5"
  }
 },
 "nbformat": 4,
 "nbformat_minor": 4
}
