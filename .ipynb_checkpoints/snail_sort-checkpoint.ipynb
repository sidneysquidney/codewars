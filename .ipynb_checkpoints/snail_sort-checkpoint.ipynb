{
 "cells": [
  {
   "cell_type": "markdown",
   "metadata": {},
   "source": [
    "Snail Sort\n",
    "Given an n x n array, return the array elements arranged from outermost elements to the middle element, traveling clockwise.\n",
    "\n",
    "array = [[1,2,3],\n",
    "         [4,5,6],\n",
    "         [7,8,9]]\n",
    "snail(array) #=> [1,2,3,6,9,8,7,4,5]\n",
    "For better understanding, please follow the numbers of the next array consecutively:\n",
    "\n",
    "array = [[1,2,3],\n",
    "         [8,9,4],\n",
    "         [7,6,5]]\n",
    "snail(array) #=> [1,2,3,4,5,6,7,8,9]\n",
    "This image will illustrate things more clearly:\n",
    "\n",
    "\n",
    "NOTE: The idea is not sort the elements from the lowest value to the highest; the idea is to traverse the 2-d array in a clockwise snailshell pattern.\n",
    "\n",
    "NOTE 2: The 0x0 (empty matrix) is represented as en empty array inside an array [[]]."
   ]
  },
  {
   "cell_type": "code",
   "execution_count": 4,
   "metadata": {},
   "outputs": [],
   "source": [
    "import numpy as np"
   ]
  },
  {
   "cell_type": "code",
   "execution_count": 153,
   "metadata": {},
   "outputs": [],
   "source": [
    "def snail(snail_map):\n",
    "    graph = np.array(snail_map)\n",
    "    lst = []\n",
    "    while True:\n",
    "        for i in range(4):\n",
    "            if i == 0:\n",
    "                temp = graph[0, ::1]\n",
    "                graph = graph[1:, :]\n",
    "            elif i == 1:\n",
    "                temp = graph[::1, -1]\n",
    "                graph = graph[:, :-1]\n",
    "            elif i == 2:\n",
    "                temp = graph[-1, ::-1]\n",
    "                graph = graph[:-1, :]\n",
    "            else:\n",
    "                temp = graph[::-1, 0]\n",
    "                graph = graph[:, 1:]\n",
    "            lst += list(temp)\n",
    "            if len(temp) == 0:\n",
    "                return lst\n",
    "    return lst"
   ]
  }
 ],
 "metadata": {
  "kernelspec": {
   "display_name": "Python 3",
   "language": "python",
   "name": "python3"
  },
  "language_info": {
   "codemirror_mode": {
    "name": "ipython",
    "version": 3
   },
   "file_extension": ".py",
   "mimetype": "text/x-python",
   "name": "python",
   "nbconvert_exporter": "python",
   "pygments_lexer": "ipython3",
   "version": "3.8.5"
  }
 },
 "nbformat": 4,
 "nbformat_minor": 4
}
