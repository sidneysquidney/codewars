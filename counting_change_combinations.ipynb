{
 "cells": [
  {
   "cell_type": "markdown",
   "metadata": {},
   "source": [
    "Write a function that counts how many different ways you can make change for an amount of money, given an array of coin denominations. For example, there are 3 ways to give change for 4 if you have coins with denomination 1 and 2:\n",
    "\n",
    "1+1+1+1, 1+1+2, 2+2.\n",
    "The order of coins does not matter:\n",
    "\n",
    "1+1+2 == 2+1+1\n",
    "Also, assume that you have an infinite amount of coins.\n",
    "\n",
    "Your function should take an amount to change and an array of unique denominations for the coins:\n",
    "\n",
    "  count_change(4, [1,2]) # => 3\n",
    "  count_change(10, [5,2,3]) # => 4\n",
    "  count_change(11, [5,7]) # => 0"
   ]
  },
  {
   "cell_type": "code",
   "execution_count": 1,
   "metadata": {},
   "outputs": [],
   "source": [
    "# needs some sort of recursion\n",
    "# maybe the knapsack algo"
   ]
  },
  {
   "cell_type": "code",
   "execution_count": 4,
   "metadata": {},
   "outputs": [
    {
     "data": {
      "text/plain": [
       "(5, 10)"
      ]
     },
     "execution_count": 4,
     "metadata": {},
     "output_type": "execute_result"
    }
   ],
   "source": [
    "# try 10 with 1, 2, 5\n",
    "\n",
    "1,2,3,4,5,6,7,8,9,10\n",
    "2,4,6,8,10\n",
    "5,10\n",
    "\n",
    "# make a list of the numeber sequences for each coin\n",
    "# start from front, 10 1's, then go to 2's, first is a 2, follow to ones, \n",
    "# loop down from top and try evertyhing that's under 10, \n",
    "# if theres another row, go to next row each time sum is under 10 \n",
    "# (eg 5 goes to 2x2=4, goes to 1, goes down to 1x2, goes to 3x1)"
   ]
  },
  {
   "cell_type": "code",
   "execution_count": 60,
   "metadata": {},
   "outputs": [],
   "source": [
    "class CoinAlgo:\n",
    "    def __init__(self, target, coins):\n",
    "        self.target = target\n",
    "        self.coins = coins\n",
    "        self.result = []\n",
    "    def get_combos(self):\n",
    "        self.backtrack([], len(self.coins) - 1)\n",
    "        return self.result\n",
    "    def backtrack(self, current, index):\n",
    "        if sum(current) == self.target:\n",
    "            self.result.append(current)\n",
    "            return\n",
    "        elif index < 0 or sum(current) > self.target:\n",
    "            return\n",
    "        for value in self.coins[index]:\n",
    "            self.backtrack(current + [value], index - 1)\n",
    "            \n",
    "def count_change(target, coins):\n",
    "    coins = sorted(coins, reverse=True)\n",
    "    graph = []\n",
    "    for coin in coins:\n",
    "        coin_list = list(range(0, target + 1, coin))\n",
    "        graph.append(coin_list)\n",
    "    combos = []\n",
    "    algo = CoinAlgo(target, graph)\n",
    "    algo_total = len(algo.get_combos())\n",
    "    return algo_total"
   ]
  },
  {
   "cell_type": "code",
   "execution_count": null,
   "metadata": {},
   "outputs": [],
   "source": []
  },
  {
   "cell_type": "code",
   "execution_count": 63,
   "metadata": {},
   "outputs": [
    {
     "data": {
      "text/plain": [
       "6"
      ]
     },
     "execution_count": 63,
     "metadata": {},
     "output_type": "execute_result"
    }
   ],
   "source": [
    "count_change(10, [2,1])"
   ]
  },
  {
   "cell_type": "code",
   "execution_count": null,
   "metadata": {},
   "outputs": [],
   "source": []
  }
 ],
 "metadata": {
  "kernelspec": {
   "display_name": "Python 3",
   "language": "python",
   "name": "python3"
  },
  "language_info": {
   "codemirror_mode": {
    "name": "ipython",
    "version": 3
   },
   "file_extension": ".py",
   "mimetype": "text/x-python",
   "name": "python",
   "nbconvert_exporter": "python",
   "pygments_lexer": "ipython3",
   "version": "3.8.5"
  }
 },
 "nbformat": 4,
 "nbformat_minor": 4
}
