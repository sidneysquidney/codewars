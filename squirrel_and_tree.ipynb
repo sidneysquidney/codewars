{
 "cells": [
  {
   "cell_type": "markdown",
   "metadata": {},
   "source": [
    "Task\n",
    "Since the weather was good, some students decided to go for a walk in the park after the first lectures of the new academic year. There they saw a squirrel, which climbed a tree in a spiral at a constant angle to the ground. They calculated that in one loop the squirrel climbes h meters (vertical height), the height of the tree is equal to H (v in Ruby), and the length of its circumference equals S.\n",
    "\n",
    "These calculations were exhausting, so now the students need your help to figure out how many meters the path length of squirrel climbed when it reached the tree top. The result should be rounded to 4 decimal places.\n",
    "\n",
    "Code Limit\n",
    "Less than 52 characters (JavaScript & Python)\n",
    "\n",
    "Less than 48 characters (Ruby)\n",
    "\n",
    "Example\n",
    "For h = 4, H = 16, S = 3, the output should be 20.\n",
    "\n",
    "For h = 8, H = 9, S = 37, the output should be 42.5869.\n"
   ]
  },
  {
   "cell_type": "code",
   "execution_count": 21,
   "metadata": {},
   "outputs": [],
   "source": [
    "def squirrel(h,H,s):\n",
    "    return round(((h*h+s*s)**.5)*H/h,4)"
   ]
  },
  {
   "cell_type": "code",
   "execution_count": 28,
   "metadata": {},
   "outputs": [],
   "source": [
    "import math\n",
    "def squirrel(h, H, s):\n",
    "    return round(math.hypot(h,s)*(H/h),4)"
   ]
  }
 ],
 "metadata": {
  "kernelspec": {
   "display_name": "Python 3",
   "language": "python",
   "name": "python3"
  },
  "language_info": {
   "codemirror_mode": {
    "name": "ipython",
    "version": 3
   },
   "file_extension": ".py",
   "mimetype": "text/x-python",
   "name": "python",
   "nbconvert_exporter": "python",
   "pygments_lexer": "ipython3",
   "version": "3.8.5"
  }
 },
 "nbformat": 4,
 "nbformat_minor": 4
}
